{
  "nbformat": 4,
  "nbformat_minor": 0,
  "metadata": {
    "colab": {
      "provenance": [],
      "authorship_tag": "ABX9TyMIuppL4DA91Qb67PlHembI",
      "include_colab_link": true
    },
    "kernelspec": {
      "name": "python3",
      "display_name": "Python 3"
    },
    "language_info": {
      "name": "python"
    }
  },
  "cells": [
    {
      "cell_type": "markdown",
      "metadata": {
        "id": "view-in-github",
        "colab_type": "text"
      },
      "source": [
        "<a href=\"https://colab.research.google.com/github/giulicrenna/data_science/blob/main/Python_for_data_science_notebook_linkedin.ipynb\" target=\"_parent\"><img src=\"https://colab.research.google.com/assets/colab-badge.svg\" alt=\"Open In Colab\"/></a>"
      ]
    },
    {
      "cell_type": "code",
      "source": [
        "!apt-get install openjdk-8-jdk-headless -qq > /dev/null\n",
        "# Download Spark\n",
        "# https://spark.apache.org/downloads.html\n",
        "!wget -q https://dlcdn.apache.org/spark/spark-3.3.2/spark-3.3.2-bin-hadoop3.tgz\n",
        "# Unzip the file\n",
        "!tar xf spark-3.3.2-bin-hadoop3.tgz\n",
        "!python -m pip install findspark"
      ],
      "metadata": {
        "colab": {
          "base_uri": "https://localhost:8080/"
        },
        "id": "riKVNPFySA11",
        "outputId": "08ec6bee-042f-487e-ce4d-4767bb3232fe"
      },
      "execution_count": 1,
      "outputs": [
        {
          "output_type": "stream",
          "name": "stdout",
          "text": [
            "Looking in indexes: https://pypi.org/simple, https://us-python.pkg.dev/colab-wheels/public/simple/\n",
            "Collecting findspark\n",
            "  Downloading findspark-2.0.1-py2.py3-none-any.whl (4.4 kB)\n",
            "Installing collected packages: findspark\n",
            "Successfully installed findspark-2.0.1\n"
          ]
        }
      ]
    },
    {
      "cell_type": "code",
      "source": [
        "import os\n",
        "os.environ[\"JAVA_HOME\"] = \"/usr/lib/jvm/java-8-openjdk-amd64\"\n",
        "os.environ[\"SPARK_HOME\"] = '/content/spark-3.3.2-bin-hadoop3'"
      ],
      "metadata": {
        "id": "ZMZ0-Ee7THy8"
      },
      "execution_count": 2,
      "outputs": []
    },
    {
      "cell_type": "code",
      "execution_count": 29,
      "metadata": {
        "colab": {
          "base_uri": "https://localhost:8080/"
        },
        "id": "Exc_01PZNISN",
        "outputId": "aa85cd98-13a1-41f9-c7a1-6db1cd3a7f32"
      },
      "outputs": [
        {
          "output_type": "stream",
          "name": "stdout",
          "text": [
            "Drive already mounted at /content/drive; to attempt to forcibly remount, call drive.mount(\"/content/drive\", force_remount=True).\n"
          ]
        }
      ],
      "source": [
        "import pandas as pd\n",
        "import findspark\n",
        "findspark.init()\n",
        "findspark.find()\n",
        "\n",
        "import pyspark\n",
        "import matplotlib.pyplot as plt\n",
        "from matplotlib.pyplot import *\n",
        "from google.colab import drive\n",
        "import seaborn as sns\n",
        "import numpy as np\n",
        "\n",
        "drive.mount('/content/drive');"
      ]
    },
    {
      "cell_type": "code",
      "source": [
        "so = pd.read_csv('/content/drive/MyDrive/Instituto Crenna/csv/SO.csv')\n",
        "so.head(5).style.background_gradient()"
      ],
      "metadata": {
        "colab": {
          "base_uri": "https://localhost:8080/",
          "height": 206
        },
        "id": "2DFwPG8ANOlf",
        "outputId": "fce248d3-d4fc-4138-eff5-5757a8bffd72"
      },
      "execution_count": 4,
      "outputs": [
        {
          "output_type": "execute_result",
          "data": {
            "text/plain": [
              "<pandas.io.formats.style.Styler at 0x7fc7a0be8340>"
            ],
            "text/html": [
              "<style type=\"text/css\">\n",
              "#T_1ef9b_row0_col1 {\n",
              "  background-color: #4295c3;\n",
              "  color: #f1f1f1;\n",
              "}\n",
              "#T_1ef9b_row0_col2 {\n",
              "  background-color: #023e62;\n",
              "  color: #f1f1f1;\n",
              "}\n",
              "#T_1ef9b_row0_col3 {\n",
              "  background-color: #034165;\n",
              "  color: #f1f1f1;\n",
              "}\n",
              "#T_1ef9b_row0_col4, #T_1ef9b_row0_col5, #T_1ef9b_row1_col1, #T_1ef9b_row1_col2, #T_1ef9b_row1_col3, #T_1ef9b_row2_col6 {\n",
              "  background-color: #023858;\n",
              "  color: #f1f1f1;\n",
              "}\n",
              "#T_1ef9b_row0_col6 {\n",
              "  background-color: #75a9cf;\n",
              "  color: #f1f1f1;\n",
              "}\n",
              "#T_1ef9b_row1_col4 {\n",
              "  background-color: #056ead;\n",
              "  color: #f1f1f1;\n",
              "}\n",
              "#T_1ef9b_row1_col5 {\n",
              "  background-color: #2182b9;\n",
              "  color: #f1f1f1;\n",
              "}\n",
              "#T_1ef9b_row1_col6 {\n",
              "  background-color: #7eadd1;\n",
              "  color: #f1f1f1;\n",
              "}\n",
              "#T_1ef9b_row2_col1 {\n",
              "  background-color: #056ba7;\n",
              "  color: #f1f1f1;\n",
              "}\n",
              "#T_1ef9b_row2_col2 {\n",
              "  background-color: #1379b5;\n",
              "  color: #f1f1f1;\n",
              "}\n",
              "#T_1ef9b_row2_col3 {\n",
              "  background-color: #5ea0ca;\n",
              "  color: #f1f1f1;\n",
              "}\n",
              "#T_1ef9b_row2_col4 {\n",
              "  background-color: #67a4cc;\n",
              "  color: #f1f1f1;\n",
              "}\n",
              "#T_1ef9b_row2_col5 {\n",
              "  background-color: #a8bedc;\n",
              "  color: #000000;\n",
              "}\n",
              "#T_1ef9b_row3_col1 {\n",
              "  background-color: #cdd0e5;\n",
              "  color: #000000;\n",
              "}\n",
              "#T_1ef9b_row3_col2 {\n",
              "  background-color: #faf2f8;\n",
              "  color: #000000;\n",
              "}\n",
              "#T_1ef9b_row3_col3, #T_1ef9b_row3_col4, #T_1ef9b_row3_col5, #T_1ef9b_row4_col1, #T_1ef9b_row4_col2, #T_1ef9b_row4_col6 {\n",
              "  background-color: #fff7fb;\n",
              "  color: #000000;\n",
              "}\n",
              "#T_1ef9b_row3_col6 {\n",
              "  background-color: #62a2cb;\n",
              "  color: #f1f1f1;\n",
              "}\n",
              "#T_1ef9b_row4_col3, #T_1ef9b_row4_col5 {\n",
              "  background-color: #fcf4fa;\n",
              "  color: #000000;\n",
              "}\n",
              "#T_1ef9b_row4_col4 {\n",
              "  background-color: #fdf5fa;\n",
              "  color: #000000;\n",
              "}\n",
              "</style>\n",
              "<table id=\"T_1ef9b_\" class=\"dataframe\">\n",
              "  <thead>\n",
              "    <tr>\n",
              "      <th class=\"blank level0\" >&nbsp;</th>\n",
              "      <th class=\"col_heading level0 col0\" >Date</th>\n",
              "      <th class=\"col_heading level0 col1\" >Open</th>\n",
              "      <th class=\"col_heading level0 col2\" >High</th>\n",
              "      <th class=\"col_heading level0 col3\" >Low</th>\n",
              "      <th class=\"col_heading level0 col4\" >Close</th>\n",
              "      <th class=\"col_heading level0 col5\" >Adj Close</th>\n",
              "      <th class=\"col_heading level0 col6\" >Volume</th>\n",
              "    </tr>\n",
              "  </thead>\n",
              "  <tbody>\n",
              "    <tr>\n",
              "      <th id=\"T_1ef9b_level0_row0\" class=\"row_heading level0 row0\" >0</th>\n",
              "      <td id=\"T_1ef9b_row0_col0\" class=\"data row0 col0\" >2014-07-28</td>\n",
              "      <td id=\"T_1ef9b_row0_col1\" class=\"data row0 col1\" >44.619999</td>\n",
              "      <td id=\"T_1ef9b_row0_col2\" class=\"data row0 col2\" >45.430000</td>\n",
              "      <td id=\"T_1ef9b_row0_col3\" class=\"data row0 col3\" >44.619999</td>\n",
              "      <td id=\"T_1ef9b_row0_col4\" class=\"data row0 col4\" >45.360001</td>\n",
              "      <td id=\"T_1ef9b_row0_col5\" class=\"data row0 col5\" >35.349178</td>\n",
              "      <td id=\"T_1ef9b_row0_col6\" class=\"data row0 col6\" >5568900</td>\n",
              "    </tr>\n",
              "    <tr>\n",
              "      <th id=\"T_1ef9b_level0_row1\" class=\"row_heading level0 row1\" >1</th>\n",
              "      <td id=\"T_1ef9b_row1_col0\" class=\"data row1 col0\" >2014-07-29</td>\n",
              "      <td id=\"T_1ef9b_row1_col1\" class=\"data row1 col1\" >45.470001</td>\n",
              "      <td id=\"T_1ef9b_row1_col2\" class=\"data row1 col2\" >45.470001</td>\n",
              "      <td id=\"T_1ef9b_row1_col3\" class=\"data row1 col3\" >44.669998</td>\n",
              "      <td id=\"T_1ef9b_row1_col4\" class=\"data row1 col4\" >44.860001</td>\n",
              "      <td id=\"T_1ef9b_row1_col5\" class=\"data row1 col5\" >34.959522</td>\n",
              "      <td id=\"T_1ef9b_row1_col6\" class=\"data row1 col6\" >5499600</td>\n",
              "    </tr>\n",
              "    <tr>\n",
              "      <th id=\"T_1ef9b_level0_row2\" class=\"row_heading level0 row2\" >2</th>\n",
              "      <td id=\"T_1ef9b_row2_col0\" class=\"data row2 col0\" >2014-07-30</td>\n",
              "      <td id=\"T_1ef9b_row2_col1\" class=\"data row2 col1\" >45.000000</td>\n",
              "      <td id=\"T_1ef9b_row2_col2\" class=\"data row2 col2\" >45.000000</td>\n",
              "      <td id=\"T_1ef9b_row2_col3\" class=\"data row2 col3\" >44.009998</td>\n",
              "      <td id=\"T_1ef9b_row2_col4\" class=\"data row2 col4\" >44.380001</td>\n",
              "      <td id=\"T_1ef9b_row2_col5\" class=\"data row2 col5\" >34.585461</td>\n",
              "      <td id=\"T_1ef9b_row2_col6\" class=\"data row2 col6\" >6945200</td>\n",
              "    </tr>\n",
              "    <tr>\n",
              "      <th id=\"T_1ef9b_level0_row3\" class=\"row_heading level0 row3\" >3</th>\n",
              "      <td id=\"T_1ef9b_row3_col0\" class=\"data row3 col0\" >2014-07-31</td>\n",
              "      <td id=\"T_1ef9b_row3_col1\" class=\"data row3 col1\" >43.889999</td>\n",
              "      <td id=\"T_1ef9b_row3_col2\" class=\"data row3 col2\" >43.889999</td>\n",
              "      <td id=\"T_1ef9b_row3_col3\" class=\"data row3 col3\" >43.220001</td>\n",
              "      <td id=\"T_1ef9b_row3_col4\" class=\"data row3 col4\" >43.290001</td>\n",
              "      <td id=\"T_1ef9b_row3_col5\" class=\"data row3 col5\" >34.139881</td>\n",
              "      <td id=\"T_1ef9b_row3_col6\" class=\"data row3 col6\" >5675300</td>\n",
              "    </tr>\n",
              "    <tr>\n",
              "      <th id=\"T_1ef9b_level0_row4\" class=\"row_heading level0 row4\" >4</th>\n",
              "      <td id=\"T_1ef9b_row4_col0\" class=\"data row4 col0\" >2014-08-01</td>\n",
              "      <td id=\"T_1ef9b_row4_col1\" class=\"data row4 col1\" >43.340000</td>\n",
              "      <td id=\"T_1ef9b_row4_col2\" class=\"data row4 col2\" >43.830002</td>\n",
              "      <td id=\"T_1ef9b_row4_col3\" class=\"data row4 col3\" >43.250000</td>\n",
              "      <td id=\"T_1ef9b_row4_col4\" class=\"data row4 col4\" >43.320000</td>\n",
              "      <td id=\"T_1ef9b_row4_col5\" class=\"data row4 col5\" >34.163548</td>\n",
              "      <td id=\"T_1ef9b_row4_col6\" class=\"data row4 col6\" >4193700</td>\n",
              "    </tr>\n",
              "  </tbody>\n",
              "</table>\n"
            ]
          },
          "metadata": {},
          "execution_count": 4
        }
      ]
    },
    {
      "cell_type": "code",
      "source": [
        "'''\n",
        "Encontrar correlaciones entre las\n",
        "'''\n",
        "correlatio_so = so.corr()\n",
        "correlatio_so.style.background_gradient()"
      ],
      "metadata": {
        "colab": {
          "base_uri": "https://localhost:8080/",
          "height": 238
        },
        "id": "Sk7CRtyMoGcT",
        "outputId": "3769ec86-c488-4b14-8937-d1da1e337bf7"
      },
      "execution_count": 5,
      "outputs": [
        {
          "output_type": "execute_result",
          "data": {
            "text/plain": [
              "<pandas.io.formats.style.Styler at 0x7fc7cad69fd0>"
            ],
            "text/html": [
              "<style type=\"text/css\">\n",
              "#T_fc477_row0_col0, #T_fc477_row0_col1, #T_fc477_row0_col2, #T_fc477_row1_col0, #T_fc477_row1_col1, #T_fc477_row1_col2, #T_fc477_row1_col3, #T_fc477_row2_col0, #T_fc477_row2_col1, #T_fc477_row2_col2, #T_fc477_row2_col3, #T_fc477_row3_col1, #T_fc477_row3_col2, #T_fc477_row3_col3, #T_fc477_row4_col4, #T_fc477_row5_col5 {\n",
              "  background-color: #023858;\n",
              "  color: #f1f1f1;\n",
              "}\n",
              "#T_fc477_row0_col3, #T_fc477_row3_col0 {\n",
              "  background-color: #02395a;\n",
              "  color: #f1f1f1;\n",
              "}\n",
              "#T_fc477_row0_col4, #T_fc477_row2_col4 {\n",
              "  background-color: #046299;\n",
              "  color: #f1f1f1;\n",
              "}\n",
              "#T_fc477_row0_col5 {\n",
              "  background-color: #fdf5fa;\n",
              "  color: #000000;\n",
              "}\n",
              "#T_fc477_row1_col4, #T_fc477_row3_col4 {\n",
              "  background-color: #046198;\n",
              "  color: #f1f1f1;\n",
              "}\n",
              "#T_fc477_row1_col5 {\n",
              "  background-color: #faf2f8;\n",
              "  color: #000000;\n",
              "}\n",
              "#T_fc477_row2_col5, #T_fc477_row5_col0, #T_fc477_row5_col1, #T_fc477_row5_col2, #T_fc477_row5_col3, #T_fc477_row5_col4 {\n",
              "  background-color: #fff7fb;\n",
              "  color: #000000;\n",
              "}\n",
              "#T_fc477_row3_col5 {\n",
              "  background-color: #fcf4fa;\n",
              "  color: #000000;\n",
              "}\n",
              "#T_fc477_row4_col0, #T_fc477_row4_col1 {\n",
              "  background-color: #046097;\n",
              "  color: #f1f1f1;\n",
              "}\n",
              "#T_fc477_row4_col2, #T_fc477_row4_col3 {\n",
              "  background-color: #046096;\n",
              "  color: #f1f1f1;\n",
              "}\n",
              "#T_fc477_row4_col5 {\n",
              "  background-color: #f5eff6;\n",
              "  color: #000000;\n",
              "}\n",
              "</style>\n",
              "<table id=\"T_fc477_\" class=\"dataframe\">\n",
              "  <thead>\n",
              "    <tr>\n",
              "      <th class=\"blank level0\" >&nbsp;</th>\n",
              "      <th class=\"col_heading level0 col0\" >Open</th>\n",
              "      <th class=\"col_heading level0 col1\" >High</th>\n",
              "      <th class=\"col_heading level0 col2\" >Low</th>\n",
              "      <th class=\"col_heading level0 col3\" >Close</th>\n",
              "      <th class=\"col_heading level0 col4\" >Adj Close</th>\n",
              "      <th class=\"col_heading level0 col5\" >Volume</th>\n",
              "    </tr>\n",
              "  </thead>\n",
              "  <tbody>\n",
              "    <tr>\n",
              "      <th id=\"T_fc477_level0_row0\" class=\"row_heading level0 row0\" >Open</th>\n",
              "      <td id=\"T_fc477_row0_col0\" class=\"data row0 col0\" >1.000000</td>\n",
              "      <td id=\"T_fc477_row0_col1\" class=\"data row0 col1\" >0.996592</td>\n",
              "      <td id=\"T_fc477_row0_col2\" class=\"data row0 col2\" >0.996288</td>\n",
              "      <td id=\"T_fc477_row0_col3\" class=\"data row0 col3\" >0.991826</td>\n",
              "      <td id=\"T_fc477_row0_col4\" class=\"data row0 col4\" >0.808282</td>\n",
              "      <td id=\"T_fc477_row0_col5\" class=\"data row0 col5\" >-0.175173</td>\n",
              "    </tr>\n",
              "    <tr>\n",
              "      <th id=\"T_fc477_level0_row1\" class=\"row_heading level0 row1\" >High</th>\n",
              "      <td id=\"T_fc477_row1_col0\" class=\"data row1 col0\" >0.996592</td>\n",
              "      <td id=\"T_fc477_row1_col1\" class=\"data row1 col1\" >1.000000</td>\n",
              "      <td id=\"T_fc477_row1_col2\" class=\"data row1 col2\" >0.996331</td>\n",
              "      <td id=\"T_fc477_row1_col3\" class=\"data row1 col3\" >0.996448</td>\n",
              "      <td id=\"T_fc477_row1_col4\" class=\"data row1 col4\" >0.812829</td>\n",
              "      <td id=\"T_fc477_row1_col5\" class=\"data row1 col5\" >-0.151233</td>\n",
              "    </tr>\n",
              "    <tr>\n",
              "      <th id=\"T_fc477_level0_row2\" class=\"row_heading level0 row2\" >Low</th>\n",
              "      <td id=\"T_fc477_row2_col0\" class=\"data row2 col0\" >0.996288</td>\n",
              "      <td id=\"T_fc477_row2_col1\" class=\"data row2 col1\" >0.996331</td>\n",
              "      <td id=\"T_fc477_row2_col2\" class=\"data row2 col2\" >1.000000</td>\n",
              "      <td id=\"T_fc477_row2_col3\" class=\"data row2 col3\" >0.996722</td>\n",
              "      <td id=\"T_fc477_row2_col4\" class=\"data row2 col4\" >0.809979</td>\n",
              "      <td id=\"T_fc477_row2_col5\" class=\"data row2 col5\" >-0.197334</td>\n",
              "    </tr>\n",
              "    <tr>\n",
              "      <th id=\"T_fc477_level0_row3\" class=\"row_heading level0 row3\" >Close</th>\n",
              "      <td id=\"T_fc477_row3_col0\" class=\"data row3 col0\" >0.991826</td>\n",
              "      <td id=\"T_fc477_row3_col1\" class=\"data row3 col1\" >0.996448</td>\n",
              "      <td id=\"T_fc477_row3_col2\" class=\"data row3 col2\" >0.996722</td>\n",
              "      <td id=\"T_fc477_row3_col3\" class=\"data row3 col3\" >1.000000</td>\n",
              "      <td id=\"T_fc477_row3_col4\" class=\"data row3 col4\" >0.813579</td>\n",
              "      <td id=\"T_fc477_row3_col5\" class=\"data row3 col5\" >-0.173276</td>\n",
              "    </tr>\n",
              "    <tr>\n",
              "      <th id=\"T_fc477_level0_row4\" class=\"row_heading level0 row4\" >Adj Close</th>\n",
              "      <td id=\"T_fc477_row4_col0\" class=\"data row4 col0\" >0.808282</td>\n",
              "      <td id=\"T_fc477_row4_col1\" class=\"data row4 col1\" >0.812829</td>\n",
              "      <td id=\"T_fc477_row4_col2\" class=\"data row4 col2\" >0.809979</td>\n",
              "      <td id=\"T_fc477_row4_col3\" class=\"data row4 col3\" >0.813579</td>\n",
              "      <td id=\"T_fc477_row4_col4\" class=\"data row4 col4\" >1.000000</td>\n",
              "      <td id=\"T_fc477_row4_col5\" class=\"data row4 col5\" >-0.121980</td>\n",
              "    </tr>\n",
              "    <tr>\n",
              "      <th id=\"T_fc477_level0_row5\" class=\"row_heading level0 row5\" >Volume</th>\n",
              "      <td id=\"T_fc477_row5_col0\" class=\"data row5 col0\" >-0.175173</td>\n",
              "      <td id=\"T_fc477_row5_col1\" class=\"data row5 col1\" >-0.151233</td>\n",
              "      <td id=\"T_fc477_row5_col2\" class=\"data row5 col2\" >-0.197334</td>\n",
              "      <td id=\"T_fc477_row5_col3\" class=\"data row5 col3\" >-0.173276</td>\n",
              "      <td id=\"T_fc477_row5_col4\" class=\"data row5 col4\" >-0.121980</td>\n",
              "      <td id=\"T_fc477_row5_col5\" class=\"data row5 col5\" >1.000000</td>\n",
              "    </tr>\n",
              "  </tbody>\n",
              "</table>\n"
            ]
          },
          "metadata": {},
          "execution_count": 5
        }
      ]
    },
    {
      "cell_type": "code",
      "source": [
        "'''\n",
        "Análisis de extremos\n",
        "(Para deteccion de outliers)\n",
        "'''\n",
        "high = so.High\n",
        "Q1 = np.percentile(high, 25)\n",
        "Q3 = np.percentile(high, 75)\n",
        "RI = Q3 - Q1 # (rango interquartil)\n",
        "print(Q1.__str__() + '\\n' + Q3.__str__() + '\\n' + RI.__str__())"
      ],
      "metadata": {
        "colab": {
          "base_uri": "https://localhost:8080/"
        },
        "id": "STOEkmTtoWv6",
        "outputId": "2ed66bd2-8ba1-4a84-bcf4-ff41828a3131"
      },
      "execution_count": 6,
      "outputs": [
        {
          "output_type": "stream",
          "name": "stdout",
          "text": [
            "45.09\n",
            "50.66\n",
            "5.569999999999993\n"
          ]
        }
      ]
    },
    {
      "cell_type": "code",
      "source": [
        "high"
      ],
      "metadata": {
        "colab": {
          "base_uri": "https://localhost:8080/"
        },
        "id": "atvgpgHxvTIt",
        "outputId": "1869238e-c7cc-4301-80e9-2a9b908356cc"
      },
      "execution_count": 7,
      "outputs": [
        {
          "output_type": "execute_result",
          "data": {
            "text/plain": [
              "0       45.430000\n",
              "1       45.470001\n",
              "2       45.000000\n",
              "3       43.889999\n",
              "4       43.830002\n",
              "          ...    \n",
              "1254    55.610001\n",
              "1255    55.619999\n",
              "1256    55.669998\n",
              "1257    55.810001\n",
              "1258    55.830002\n",
              "Name: High, Length: 1259, dtype: float64"
            ]
          },
          "metadata": {},
          "execution_count": 7
        }
      ]
    },
    {
      "cell_type": "code",
      "source": [
        "umbral_superior = Q3 + .5*RI\n",
        "umbral_inferior = Q1 - .5*RI\n",
        "print(umbral_superior.__str__() + '\\n' + umbral_inferior.__str__())"
      ],
      "metadata": {
        "colab": {
          "base_uri": "https://localhost:8080/"
        },
        "id": "QAZg96OBtQPk",
        "outputId": "3b3ce1b5-38e2-489a-9b81-db2a04028543"
      },
      "execution_count": 8,
      "outputs": [
        {
          "output_type": "stream",
          "name": "stdout",
          "text": [
            "53.44499999999999\n",
            "42.30500000000001\n"
          ]
        }
      ]
    },
    {
      "cell_type": "markdown",
      "source": [
        "Distribucion no simétrica"
      ],
      "metadata": {
        "id": "kSkbTcDowBTq"
      }
    },
    {
      "cell_type": "code",
      "source": [
        "np.mean(high > umbral_superior)"
      ],
      "metadata": {
        "colab": {
          "base_uri": "https://localhost:8080/"
        },
        "id": "BYtz2EMztxs5",
        "outputId": "337b2c1d-e426-446a-cd22-03d7b09695e6"
      },
      "execution_count": 9,
      "outputs": [
        {
          "output_type": "execute_result",
          "data": {
            "text/plain": [
              "0.06354249404289118"
            ]
          },
          "metadata": {},
          "execution_count": 9
        }
      ]
    },
    {
      "cell_type": "code",
      "source": [
        "np.mean(high < umbral_inferior)"
      ],
      "metadata": {
        "colab": {
          "base_uri": "https://localhost:8080/"
        },
        "id": "KMtcRhYGuwle",
        "outputId": "d8dbd73b-0f72-4d71-df8b-7d0e996ae49e"
      },
      "execution_count": 10,
      "outputs": [
        {
          "output_type": "execute_result",
          "data": {
            "text/plain": [
              "0.004765687053216839"
            ]
          },
          "metadata": {},
          "execution_count": 10
        }
      ]
    },
    {
      "cell_type": "code",
      "source": [
        "'''\n",
        "Detección de outliers con sklearn\n",
        "'''\n",
        "from sklearn.covariance import EllipticEnvelope"
      ],
      "metadata": {
        "id": "_9axtofXu3hP"
      },
      "execution_count": 19,
      "outputs": []
    },
    {
      "cell_type": "code",
      "source": [
        "outliers = EllipticEnvelope(contamination=0.01)"
      ],
      "metadata": {
        "id": "C7UQ_pZ3v-fG"
      },
      "execution_count": 12,
      "outputs": []
    },
    {
      "cell_type": "code",
      "source": [
        "'''\n",
        "Presuponemos que hay una distribución gaussiana de los datos\n",
        "'''\n",
        "var_list = so.columns.values.tolist()\n",
        "var_list.remove('Date')\n",
        "var_list"
      ],
      "metadata": {
        "colab": {
          "base_uri": "https://localhost:8080/"
        },
        "id": "HsXHoCD-wRUj",
        "outputId": "a0a242a3-1e54-42a9-8ce8-2d9ec2c92bfe"
      },
      "execution_count": 13,
      "outputs": [
        {
          "output_type": "execute_result",
          "data": {
            "text/plain": [
              "['Open', 'High', 'Low', 'Close', 'Adj Close', 'Volume']"
            ]
          },
          "metadata": {},
          "execution_count": 13
        }
      ]
    },
    {
      "cell_type": "code",
      "source": [
        "so_arr = np.array(so[var_list].values)\n",
        "outliers.fit(so_arr)\n",
        "so_arr"
      ],
      "metadata": {
        "colab": {
          "base_uri": "https://localhost:8080/"
        },
        "id": "99kwd6y1wYrg",
        "outputId": "4f12bcc9-0911-413b-f81f-daee799cfa42"
      },
      "execution_count": 21,
      "outputs": [
        {
          "output_type": "execute_result",
          "data": {
            "text/plain": [
              "array([[4.4619999e+01, 4.5430000e+01, 4.4619999e+01, 4.5360001e+01,\n",
              "        3.5349178e+01, 5.5689000e+06],\n",
              "       [4.5470001e+01, 4.5470001e+01, 4.4669998e+01, 4.4860001e+01,\n",
              "        3.4959522e+01, 5.4996000e+06],\n",
              "       [4.5000000e+01, 4.5000000e+01, 4.4009998e+01, 4.4380001e+01,\n",
              "        3.4585461e+01, 6.9452000e+06],\n",
              "       ...,\n",
              "       [5.5459999e+01, 5.5669998e+01, 5.5099998e+01, 5.5639999e+01,\n",
              "        5.5639999e+01, 3.6139000e+06],\n",
              "       [5.5540001e+01, 5.5810001e+01, 5.5250000e+01, 5.5360001e+01,\n",
              "        5.5360001e+01, 3.2809000e+06],\n",
              "       [5.5340000e+01, 5.5830002e+01, 5.5200001e+01, 5.5740002e+01,\n",
              "        5.5740002e+01, 2.2887000e+06]])"
            ]
          },
          "metadata": {},
          "execution_count": 21
        }
      ]
    },
    {
      "cell_type": "code",
      "source": [
        "pred = outliers.predict(so_arr)\n",
        "pred"
      ],
      "metadata": {
        "colab": {
          "base_uri": "https://localhost:8080/"
        },
        "id": "n5_wms-dwy-j",
        "outputId": "1b251b70-0aa3-4fb7-ac38-b608352b5dae"
      },
      "execution_count": 15,
      "outputs": [
        {
          "output_type": "execute_result",
          "data": {
            "text/plain": [
              "array([1, 1, 1, ..., 1, 1, 1])"
            ]
          },
          "metadata": {},
          "execution_count": 15
        }
      ]
    },
    {
      "cell_type": "code",
      "source": [
        "'''\n",
        "Detectamos las posiciones de los outliers en forma multi-variable\n",
        "'''\n",
        "pos_outliers = np.where(pred == -1)\n",
        "pos_outliers = pos_outliers[0].tolist()\n",
        "pos_outliers"
      ],
      "metadata": {
        "colab": {
          "base_uri": "https://localhost:8080/"
        },
        "id": "Bl5lcCVJxULk",
        "outputId": "9a1b8c00-aa0f-4788-c52c-3be68c060c49"
      },
      "execution_count": 16,
      "outputs": [
        {
          "output_type": "execute_result",
          "data": {
            "text/plain": [
              "[129, 132, 134, 271, 272, 383, 448, 519, 540, 579, 1099, 1106, 1111]"
            ]
          },
          "metadata": {},
          "execution_count": 16
        }
      ]
    },
    {
      "cell_type": "code",
      "source": [
        "clean_so = so.drop(pos_outliers, axis=0)"
      ],
      "metadata": {
        "id": "XD9q-gi4xf7J"
      },
      "execution_count": 17,
      "outputs": []
    },
    {
      "cell_type": "code",
      "source": [
        "clean_so"
      ],
      "metadata": {
        "colab": {
          "base_uri": "https://localhost:8080/",
          "height": 424
        },
        "id": "3w8rZ50tyE6N",
        "outputId": "ca765f2c-e79a-41a4-f7a6-3b156b9f26dc"
      },
      "execution_count": 18,
      "outputs": [
        {
          "output_type": "execute_result",
          "data": {
            "text/plain": [
              "            Date       Open       High        Low      Close  Adj Close  \\\n",
              "0     2014-07-28  44.619999  45.430000  44.619999  45.360001  35.349178   \n",
              "1     2014-07-29  45.470001  45.470001  44.669998  44.860001  34.959522   \n",
              "2     2014-07-30  45.000000  45.000000  44.009998  44.380001  34.585461   \n",
              "3     2014-07-31  43.889999  43.889999  43.220001  43.290001  34.139881   \n",
              "4     2014-08-01  43.340000  43.830002  43.250000  43.320000  34.163548   \n",
              "...          ...        ...        ...        ...        ...        ...   \n",
              "1254  2019-07-22  55.400002  55.610001  54.869999  55.480000  55.480000   \n",
              "1255  2019-07-23  55.500000  55.619999  55.009998  55.419998  55.419998   \n",
              "1256  2019-07-24  55.459999  55.669998  55.099998  55.639999  55.639999   \n",
              "1257  2019-07-25  55.540001  55.810001  55.250000  55.360001  55.360001   \n",
              "1258  2019-07-26  55.340000  55.830002  55.200001  55.740002  55.740002   \n",
              "\n",
              "       Volume  \n",
              "0     5568900  \n",
              "1     5499600  \n",
              "2     6945200  \n",
              "3     5675300  \n",
              "4     4193700  \n",
              "...       ...  \n",
              "1254  4623300  \n",
              "1255  3023300  \n",
              "1256  3613900  \n",
              "1257  3280900  \n",
              "1258  2288700  \n",
              "\n",
              "[1246 rows x 7 columns]"
            ],
            "text/html": [
              "\n",
              "  <div id=\"df-25bd2591-207e-4acf-abdd-6085f88be1a8\">\n",
              "    <div class=\"colab-df-container\">\n",
              "      <div>\n",
              "<style scoped>\n",
              "    .dataframe tbody tr th:only-of-type {\n",
              "        vertical-align: middle;\n",
              "    }\n",
              "\n",
              "    .dataframe tbody tr th {\n",
              "        vertical-align: top;\n",
              "    }\n",
              "\n",
              "    .dataframe thead th {\n",
              "        text-align: right;\n",
              "    }\n",
              "</style>\n",
              "<table border=\"1\" class=\"dataframe\">\n",
              "  <thead>\n",
              "    <tr style=\"text-align: right;\">\n",
              "      <th></th>\n",
              "      <th>Date</th>\n",
              "      <th>Open</th>\n",
              "      <th>High</th>\n",
              "      <th>Low</th>\n",
              "      <th>Close</th>\n",
              "      <th>Adj Close</th>\n",
              "      <th>Volume</th>\n",
              "    </tr>\n",
              "  </thead>\n",
              "  <tbody>\n",
              "    <tr>\n",
              "      <th>0</th>\n",
              "      <td>2014-07-28</td>\n",
              "      <td>44.619999</td>\n",
              "      <td>45.430000</td>\n",
              "      <td>44.619999</td>\n",
              "      <td>45.360001</td>\n",
              "      <td>35.349178</td>\n",
              "      <td>5568900</td>\n",
              "    </tr>\n",
              "    <tr>\n",
              "      <th>1</th>\n",
              "      <td>2014-07-29</td>\n",
              "      <td>45.470001</td>\n",
              "      <td>45.470001</td>\n",
              "      <td>44.669998</td>\n",
              "      <td>44.860001</td>\n",
              "      <td>34.959522</td>\n",
              "      <td>5499600</td>\n",
              "    </tr>\n",
              "    <tr>\n",
              "      <th>2</th>\n",
              "      <td>2014-07-30</td>\n",
              "      <td>45.000000</td>\n",
              "      <td>45.000000</td>\n",
              "      <td>44.009998</td>\n",
              "      <td>44.380001</td>\n",
              "      <td>34.585461</td>\n",
              "      <td>6945200</td>\n",
              "    </tr>\n",
              "    <tr>\n",
              "      <th>3</th>\n",
              "      <td>2014-07-31</td>\n",
              "      <td>43.889999</td>\n",
              "      <td>43.889999</td>\n",
              "      <td>43.220001</td>\n",
              "      <td>43.290001</td>\n",
              "      <td>34.139881</td>\n",
              "      <td>5675300</td>\n",
              "    </tr>\n",
              "    <tr>\n",
              "      <th>4</th>\n",
              "      <td>2014-08-01</td>\n",
              "      <td>43.340000</td>\n",
              "      <td>43.830002</td>\n",
              "      <td>43.250000</td>\n",
              "      <td>43.320000</td>\n",
              "      <td>34.163548</td>\n",
              "      <td>4193700</td>\n",
              "    </tr>\n",
              "    <tr>\n",
              "      <th>...</th>\n",
              "      <td>...</td>\n",
              "      <td>...</td>\n",
              "      <td>...</td>\n",
              "      <td>...</td>\n",
              "      <td>...</td>\n",
              "      <td>...</td>\n",
              "      <td>...</td>\n",
              "    </tr>\n",
              "    <tr>\n",
              "      <th>1254</th>\n",
              "      <td>2019-07-22</td>\n",
              "      <td>55.400002</td>\n",
              "      <td>55.610001</td>\n",
              "      <td>54.869999</td>\n",
              "      <td>55.480000</td>\n",
              "      <td>55.480000</td>\n",
              "      <td>4623300</td>\n",
              "    </tr>\n",
              "    <tr>\n",
              "      <th>1255</th>\n",
              "      <td>2019-07-23</td>\n",
              "      <td>55.500000</td>\n",
              "      <td>55.619999</td>\n",
              "      <td>55.009998</td>\n",
              "      <td>55.419998</td>\n",
              "      <td>55.419998</td>\n",
              "      <td>3023300</td>\n",
              "    </tr>\n",
              "    <tr>\n",
              "      <th>1256</th>\n",
              "      <td>2019-07-24</td>\n",
              "      <td>55.459999</td>\n",
              "      <td>55.669998</td>\n",
              "      <td>55.099998</td>\n",
              "      <td>55.639999</td>\n",
              "      <td>55.639999</td>\n",
              "      <td>3613900</td>\n",
              "    </tr>\n",
              "    <tr>\n",
              "      <th>1257</th>\n",
              "      <td>2019-07-25</td>\n",
              "      <td>55.540001</td>\n",
              "      <td>55.810001</td>\n",
              "      <td>55.250000</td>\n",
              "      <td>55.360001</td>\n",
              "      <td>55.360001</td>\n",
              "      <td>3280900</td>\n",
              "    </tr>\n",
              "    <tr>\n",
              "      <th>1258</th>\n",
              "      <td>2019-07-26</td>\n",
              "      <td>55.340000</td>\n",
              "      <td>55.830002</td>\n",
              "      <td>55.200001</td>\n",
              "      <td>55.740002</td>\n",
              "      <td>55.740002</td>\n",
              "      <td>2288700</td>\n",
              "    </tr>\n",
              "  </tbody>\n",
              "</table>\n",
              "<p>1246 rows × 7 columns</p>\n",
              "</div>\n",
              "      <button class=\"colab-df-convert\" onclick=\"convertToInteractive('df-25bd2591-207e-4acf-abdd-6085f88be1a8')\"\n",
              "              title=\"Convert this dataframe to an interactive table.\"\n",
              "              style=\"display:none;\">\n",
              "        \n",
              "  <svg xmlns=\"http://www.w3.org/2000/svg\" height=\"24px\"viewBox=\"0 0 24 24\"\n",
              "       width=\"24px\">\n",
              "    <path d=\"M0 0h24v24H0V0z\" fill=\"none\"/>\n",
              "    <path d=\"M18.56 5.44l.94 2.06.94-2.06 2.06-.94-2.06-.94-.94-2.06-.94 2.06-2.06.94zm-11 1L8.5 8.5l.94-2.06 2.06-.94-2.06-.94L8.5 2.5l-.94 2.06-2.06.94zm10 10l.94 2.06.94-2.06 2.06-.94-2.06-.94-.94-2.06-.94 2.06-2.06.94z\"/><path d=\"M17.41 7.96l-1.37-1.37c-.4-.4-.92-.59-1.43-.59-.52 0-1.04.2-1.43.59L10.3 9.45l-7.72 7.72c-.78.78-.78 2.05 0 2.83L4 21.41c.39.39.9.59 1.41.59.51 0 1.02-.2 1.41-.59l7.78-7.78 2.81-2.81c.8-.78.8-2.07 0-2.86zM5.41 20L4 18.59l7.72-7.72 1.47 1.35L5.41 20z\"/>\n",
              "  </svg>\n",
              "      </button>\n",
              "      \n",
              "  <style>\n",
              "    .colab-df-container {\n",
              "      display:flex;\n",
              "      flex-wrap:wrap;\n",
              "      gap: 12px;\n",
              "    }\n",
              "\n",
              "    .colab-df-convert {\n",
              "      background-color: #E8F0FE;\n",
              "      border: none;\n",
              "      border-radius: 50%;\n",
              "      cursor: pointer;\n",
              "      display: none;\n",
              "      fill: #1967D2;\n",
              "      height: 32px;\n",
              "      padding: 0 0 0 0;\n",
              "      width: 32px;\n",
              "    }\n",
              "\n",
              "    .colab-df-convert:hover {\n",
              "      background-color: #E2EBFA;\n",
              "      box-shadow: 0px 1px 2px rgba(60, 64, 67, 0.3), 0px 1px 3px 1px rgba(60, 64, 67, 0.15);\n",
              "      fill: #174EA6;\n",
              "    }\n",
              "\n",
              "    [theme=dark] .colab-df-convert {\n",
              "      background-color: #3B4455;\n",
              "      fill: #D2E3FC;\n",
              "    }\n",
              "\n",
              "    [theme=dark] .colab-df-convert:hover {\n",
              "      background-color: #434B5C;\n",
              "      box-shadow: 0px 1px 3px 1px rgba(0, 0, 0, 0.15);\n",
              "      filter: drop-shadow(0px 1px 2px rgba(0, 0, 0, 0.3));\n",
              "      fill: #FFFFFF;\n",
              "    }\n",
              "  </style>\n",
              "\n",
              "      <script>\n",
              "        const buttonEl =\n",
              "          document.querySelector('#df-25bd2591-207e-4acf-abdd-6085f88be1a8 button.colab-df-convert');\n",
              "        buttonEl.style.display =\n",
              "          google.colab.kernel.accessAllowed ? 'block' : 'none';\n",
              "\n",
              "        async function convertToInteractive(key) {\n",
              "          const element = document.querySelector('#df-25bd2591-207e-4acf-abdd-6085f88be1a8');\n",
              "          const dataTable =\n",
              "            await google.colab.kernel.invokeFunction('convertToInteractive',\n",
              "                                                     [key], {});\n",
              "          if (!dataTable) return;\n",
              "\n",
              "          const docLinkHtml = 'Like what you see? Visit the ' +\n",
              "            '<a target=\"_blank\" href=https://colab.research.google.com/notebooks/data_table.ipynb>data table notebook</a>'\n",
              "            + ' to learn more about interactive tables.';\n",
              "          element.innerHTML = '';\n",
              "          dataTable['output_type'] = 'display_data';\n",
              "          await google.colab.output.renderOutput(dataTable, element);\n",
              "          const docLink = document.createElement('div');\n",
              "          docLink.innerHTML = docLinkHtml;\n",
              "          element.appendChild(docLink);\n",
              "        }\n",
              "      </script>\n",
              "    </div>\n",
              "  </div>\n",
              "  "
            ]
          },
          "metadata": {},
          "execution_count": 18
        }
      ]
    },
    {
      "cell_type": "code",
      "source": [
        "f, ax = plt.subplots(figsize=(20, 10))\n",
        "sns.lineplot(data=clean_so.drop(['Volume', 'Adj Close'], axis=1))"
      ],
      "metadata": {
        "id": "l0iA4fqHyxTi",
        "colab": {
          "base_uri": "https://localhost:8080/",
          "height": 610
        },
        "outputId": "7d74be51-50e6-42d6-a0a0-61fbd16f5e4f"
      },
      "execution_count": 32,
      "outputs": [
        {
          "output_type": "execute_result",
          "data": {
            "text/plain": [
              "<AxesSubplot:>"
            ]
          },
          "metadata": {},
          "execution_count": 32
        },
        {
          "output_type": "display_data",
          "data": {
            "text/plain": [
              "<Figure size 1440x720 with 1 Axes>"
            ],
            "image/png": "[encoded data removed]"
          },
          "metadata": {
            "needs_background": "light"
          }
        }
      ]
    },
    {
      "cell_type": "markdown",
      "source": [
        "\n",
        "\n",
        "---\n",
        "\n"
      ],
      "metadata": {
        "id": "NHBYpO7d1Jp0"
      }
    },
    {
      "cell_type": "code",
      "source": [
        "'''\n",
        "Ejemplo de division de tablas por clave primaria y base de datos de registros\n",
        "'''\n",
        "labels0 = [\"id_cliente\", \"nombre\", \"edad\", \"id_producto\", \"detalle\", \"cantidad\"]\n",
        "data0 = [(100, \"Juan\", 45, 2, \"lavarropas\", 1),\n",
        "         (200, \"Alberto\", 24, 3, \"computadoras\", 2),\n",
        "         (200, \"Alberto\", 24, 7, \"Celular\", 1),\n",
        "         (300, \"Maria\", 56, 7, \"Celular\", 4),\n",
        "         (300, \"Maria\", 56, 2, \"lavarropas\", 1)]\n",
        "\n",
        "df = pd.DataFrame.from_records(data0, columns=labels0)"
      ],
      "metadata": {
        "id": "6vgobG3pv0kq"
      },
      "execution_count": 50,
      "outputs": []
    },
    {
      "cell_type": "code",
      "source": [
        "df"
      ],
      "metadata": {
        "colab": {
          "base_uri": "https://localhost:8080/",
          "height": 206
        },
        "id": "tNdzk2JCzk8R",
        "outputId": "9e0ce6c4-debc-412a-d551-95f249aaf480"
      },
      "execution_count": 51,
      "outputs": [
        {
          "output_type": "execute_result",
          "data": {
            "text/plain": [
              "   id_cliente   nombre  edad  id_producto       detalle  cantidad\n",
              "0         100     Juan    45            2    lavarropas         1\n",
              "1         200  Alberto    24            3  computadoras         2\n",
              "2         200  Alberto    24            7       Celular         1\n",
              "3         300    Maria    56            7       Celular         4\n",
              "4         300    Maria    56            2    lavarropas         1"
            ],
            "text/html": [
              "\n",
              "  <div id=\"df-c52e8421-be1f-4ff6-aa47-bb626c98ae6a\">\n",
              "    <div class=\"colab-df-container\">\n",
              "      <div>\n",
              "<style scoped>\n",
              "    .dataframe tbody tr th:only-of-type {\n",
              "        vertical-align: middle;\n",
              "    }\n",
              "\n",
              "    .dataframe tbody tr th {\n",
              "        vertical-align: top;\n",
              "    }\n",
              "\n",
              "    .dataframe thead th {\n",
              "        text-align: right;\n",
              "    }\n",
              "</style>\n",
              "<table border=\"1\" class=\"dataframe\">\n",
              "  <thead>\n",
              "    <tr style=\"text-align: right;\">\n",
              "      <th></th>\n",
              "      <th>id_cliente</th>\n",
              "      <th>nombre</th>\n",
              "      <th>edad</th>\n",
              "      <th>id_producto</th>\n",
              "      <th>detalle</th>\n",
              "      <th>cantidad</th>\n",
              "    </tr>\n",
              "  </thead>\n",
              "  <tbody>\n",
              "    <tr>\n",
              "      <th>0</th>\n",
              "      <td>100</td>\n",
              "      <td>Juan</td>\n",
              "      <td>45</td>\n",
              "      <td>2</td>\n",
              "      <td>lavarropas</td>\n",
              "      <td>1</td>\n",
              "    </tr>\n",
              "    <tr>\n",
              "      <th>1</th>\n",
              "      <td>200</td>\n",
              "      <td>Alberto</td>\n",
              "      <td>24</td>\n",
              "      <td>3</td>\n",
              "      <td>computadoras</td>\n",
              "      <td>2</td>\n",
              "    </tr>\n",
              "    <tr>\n",
              "      <th>2</th>\n",
              "      <td>200</td>\n",
              "      <td>Alberto</td>\n",
              "      <td>24</td>\n",
              "      <td>7</td>\n",
              "      <td>Celular</td>\n",
              "      <td>1</td>\n",
              "    </tr>\n",
              "    <tr>\n",
              "      <th>3</th>\n",
              "      <td>300</td>\n",
              "      <td>Maria</td>\n",
              "      <td>56</td>\n",
              "      <td>7</td>\n",
              "      <td>Celular</td>\n",
              "      <td>4</td>\n",
              "    </tr>\n",
              "    <tr>\n",
              "      <th>4</th>\n",
              "      <td>300</td>\n",
              "      <td>Maria</td>\n",
              "      <td>56</td>\n",
              "      <td>2</td>\n",
              "      <td>lavarropas</td>\n",
              "      <td>1</td>\n",
              "    </tr>\n",
              "  </tbody>\n",
              "</table>\n",
              "</div>\n",
              "      <button class=\"colab-df-convert\" onclick=\"convertToInteractive('df-c52e8421-be1f-4ff6-aa47-bb626c98ae6a')\"\n",
              "              title=\"Convert this dataframe to an interactive table.\"\n",
              "              style=\"display:none;\">\n",
              "        \n",
              "  <svg xmlns=\"http://www.w3.org/2000/svg\" height=\"24px\"viewBox=\"0 0 24 24\"\n",
              "       width=\"24px\">\n",
              "    <path d=\"M0 0h24v24H0V0z\" fill=\"none\"/>\n",
              "    <path d=\"M18.56 5.44l.94 2.06.94-2.06 2.06-.94-2.06-.94-.94-2.06-.94 2.06-2.06.94zm-11 1L8.5 8.5l.94-2.06 2.06-.94-2.06-.94L8.5 2.5l-.94 2.06-2.06.94zm10 10l.94 2.06.94-2.06 2.06-.94-2.06-.94-.94-2.06-.94 2.06-2.06.94z\"/><path d=\"M17.41 7.96l-1.37-1.37c-.4-.4-.92-.59-1.43-.59-.52 0-1.04.2-1.43.59L10.3 9.45l-7.72 7.72c-.78.78-.78 2.05 0 2.83L4 21.41c.39.39.9.59 1.41.59.51 0 1.02-.2 1.41-.59l7.78-7.78 2.81-2.81c.8-.78.8-2.07 0-2.86zM5.41 20L4 18.59l7.72-7.72 1.47 1.35L5.41 20z\"/>\n",
              "  </svg>\n",
              "      </button>\n",
              "      \n",
              "  <style>\n",
              "    .colab-df-container {\n",
              "      display:flex;\n",
              "      flex-wrap:wrap;\n",
              "      gap: 12px;\n",
              "    }\n",
              "\n",
              "    .colab-df-convert {\n",
              "      background-color: #E8F0FE;\n",
              "      border: none;\n",
              "      border-radius: 50%;\n",
              "      cursor: pointer;\n",
              "      display: none;\n",
              "      fill: #1967D2;\n",
              "      height: 32px;\n",
              "      padding: 0 0 0 0;\n",
              "      width: 32px;\n",
              "    }\n",
              "\n",
              "    .colab-df-convert:hover {\n",
              "      background-color: #E2EBFA;\n",
              "      box-shadow: 0px 1px 2px rgba(60, 64, 67, 0.3), 0px 1px 3px 1px rgba(60, 64, 67, 0.15);\n",
              "      fill: #174EA6;\n",
              "    }\n",
              "\n",
              "    [theme=dark] .colab-df-convert {\n",
              "      background-color: #3B4455;\n",
              "      fill: #D2E3FC;\n",
              "    }\n",
              "\n",
              "    [theme=dark] .colab-df-convert:hover {\n",
              "      background-color: #434B5C;\n",
              "      box-shadow: 0px 1px 3px 1px rgba(0, 0, 0, 0.15);\n",
              "      filter: drop-shadow(0px 1px 2px rgba(0, 0, 0, 0.3));\n",
              "      fill: #FFFFFF;\n",
              "    }\n",
              "  </style>\n",
              "\n",
              "      <script>\n",
              "        const buttonEl =\n",
              "          document.querySelector('#df-c52e8421-be1f-4ff6-aa47-bb626c98ae6a button.colab-df-convert');\n",
              "        buttonEl.style.display =\n",
              "          google.colab.kernel.accessAllowed ? 'block' : 'none';\n",
              "\n",
              "        async function convertToInteractive(key) {\n",
              "          const element = document.querySelector('#df-c52e8421-be1f-4ff6-aa47-bb626c98ae6a');\n",
              "          const dataTable =\n",
              "            await google.colab.kernel.invokeFunction('convertToInteractive',\n",
              "                                                     [key], {});\n",
              "          if (!dataTable) return;\n",
              "\n",
              "          const docLinkHtml = 'Like what you see? Visit the ' +\n",
              "            '<a target=\"_blank\" href=https://colab.research.google.com/notebooks/data_table.ipynb>data table notebook</a>'\n",
              "            + ' to learn more about interactive tables.';\n",
              "          element.innerHTML = '';\n",
              "          dataTable['output_type'] = 'display_data';\n",
              "          await google.colab.output.renderOutput(dataTable, element);\n",
              "          const docLink = document.createElement('div');\n",
              "          docLink.innerHTML = docLinkHtml;\n",
              "          element.appendChild(docLink);\n",
              "        }\n",
              "      </script>\n",
              "    </div>\n",
              "  </div>\n",
              "  "
            ]
          },
          "metadata": {},
          "execution_count": 51
        }
      ]
    },
    {
      "cell_type": "code",
      "source": [
        "clientes = df.drop_duplicates(subset='id_cliente')[['id_cliente', 'nombre', 'edad']]\n",
        "clientes"
      ],
      "metadata": {
        "colab": {
          "base_uri": "https://localhost:8080/",
          "height": 143
        },
        "id": "Hyf6FCC_zxtC",
        "outputId": "4486cd47-42b9-477d-88b2-ce50564408b1"
      },
      "execution_count": 52,
      "outputs": [
        {
          "output_type": "execute_result",
          "data": {
            "text/plain": [
              "   id_cliente   nombre  edad\n",
              "0         100     Juan    45\n",
              "1         200  Alberto    24\n",
              "3         300    Maria    56"
            ],
            "text/html": [
              "\n",
              "  <div id=\"df-76457a0a-5093-4779-86e6-1f343f18c18f\">\n",
              "    <div class=\"colab-df-container\">\n",
              "      <div>\n",
              "<style scoped>\n",
              "    .dataframe tbody tr th:only-of-type {\n",
              "        vertical-align: middle;\n",
              "    }\n",
              "\n",
              "    .dataframe tbody tr th {\n",
              "        vertical-align: top;\n",
              "    }\n",
              "\n",
              "    .dataframe thead th {\n",
              "        text-align: right;\n",
              "    }\n",
              "</style>\n",
              "<table border=\"1\" class=\"dataframe\">\n",
              "  <thead>\n",
              "    <tr style=\"text-align: right;\">\n",
              "      <th></th>\n",
              "      <th>id_cliente</th>\n",
              "      <th>nombre</th>\n",
              "      <th>edad</th>\n",
              "    </tr>\n",
              "  </thead>\n",
              "  <tbody>\n",
              "    <tr>\n",
              "      <th>0</th>\n",
              "      <td>100</td>\n",
              "      <td>Juan</td>\n",
              "      <td>45</td>\n",
              "    </tr>\n",
              "    <tr>\n",
              "      <th>1</th>\n",
              "      <td>200</td>\n",
              "      <td>Alberto</td>\n",
              "      <td>24</td>\n",
              "    </tr>\n",
              "    <tr>\n",
              "      <th>3</th>\n",
              "      <td>300</td>\n",
              "      <td>Maria</td>\n",
              "      <td>56</td>\n",
              "    </tr>\n",
              "  </tbody>\n",
              "</table>\n",
              "</div>\n",
              "      <button class=\"colab-df-convert\" onclick=\"convertToInteractive('df-76457a0a-5093-4779-86e6-1f343f18c18f')\"\n",
              "              title=\"Convert this dataframe to an interactive table.\"\n",
              "              style=\"display:none;\">\n",
              "        \n",
              "  <svg xmlns=\"http://www.w3.org/2000/svg\" height=\"24px\"viewBox=\"0 0 24 24\"\n",
              "       width=\"24px\">\n",
              "    <path d=\"M0 0h24v24H0V0z\" fill=\"none\"/>\n",
              "    <path d=\"M18.56 5.44l.94 2.06.94-2.06 2.06-.94-2.06-.94-.94-2.06-.94 2.06-2.06.94zm-11 1L8.5 8.5l.94-2.06 2.06-.94-2.06-.94L8.5 2.5l-.94 2.06-2.06.94zm10 10l.94 2.06.94-2.06 2.06-.94-2.06-.94-.94-2.06-.94 2.06-2.06.94z\"/><path d=\"M17.41 7.96l-1.37-1.37c-.4-.4-.92-.59-1.43-.59-.52 0-1.04.2-1.43.59L10.3 9.45l-7.72 7.72c-.78.78-.78 2.05 0 2.83L4 21.41c.39.39.9.59 1.41.59.51 0 1.02-.2 1.41-.59l7.78-7.78 2.81-2.81c.8-.78.8-2.07 0-2.86zM5.41 20L4 18.59l7.72-7.72 1.47 1.35L5.41 20z\"/>\n",
              "  </svg>\n",
              "      </button>\n",
              "      \n",
              "  <style>\n",
              "    .colab-df-container {\n",
              "      display:flex;\n",
              "      flex-wrap:wrap;\n",
              "      gap: 12px;\n",
              "    }\n",
              "\n",
              "    .colab-df-convert {\n",
              "      background-color: #E8F0FE;\n",
              "      border: none;\n",
              "      border-radius: 50%;\n",
              "      cursor: pointer;\n",
              "      display: none;\n",
              "      fill: #1967D2;\n",
              "      height: 32px;\n",
              "      padding: 0 0 0 0;\n",
              "      width: 32px;\n",
              "    }\n",
              "\n",
              "    .colab-df-convert:hover {\n",
              "      background-color: #E2EBFA;\n",
              "      box-shadow: 0px 1px 2px rgba(60, 64, 67, 0.3), 0px 1px 3px 1px rgba(60, 64, 67, 0.15);\n",
              "      fill: #174EA6;\n",
              "    }\n",
              "\n",
              "    [theme=dark] .colab-df-convert {\n",
              "      background-color: #3B4455;\n",
              "      fill: #D2E3FC;\n",
              "    }\n",
              "\n",
              "    [theme=dark] .colab-df-convert:hover {\n",
              "      background-color: #434B5C;\n",
              "      box-shadow: 0px 1px 3px 1px rgba(0, 0, 0, 0.15);\n",
              "      filter: drop-shadow(0px 1px 2px rgba(0, 0, 0, 0.3));\n",
              "      fill: #FFFFFF;\n",
              "    }\n",
              "  </style>\n",
              "\n",
              "      <script>\n",
              "        const buttonEl =\n",
              "          document.querySelector('#df-76457a0a-5093-4779-86e6-1f343f18c18f button.colab-df-convert');\n",
              "        buttonEl.style.display =\n",
              "          google.colab.kernel.accessAllowed ? 'block' : 'none';\n",
              "\n",
              "        async function convertToInteractive(key) {\n",
              "          const element = document.querySelector('#df-76457a0a-5093-4779-86e6-1f343f18c18f');\n",
              "          const dataTable =\n",
              "            await google.colab.kernel.invokeFunction('convertToInteractive',\n",
              "                                                     [key], {});\n",
              "          if (!dataTable) return;\n",
              "\n",
              "          const docLinkHtml = 'Like what you see? Visit the ' +\n",
              "            '<a target=\"_blank\" href=https://colab.research.google.com/notebooks/data_table.ipynb>data table notebook</a>'\n",
              "            + ' to learn more about interactive tables.';\n",
              "          element.innerHTML = '';\n",
              "          dataTable['output_type'] = 'display_data';\n",
              "          await google.colab.output.renderOutput(dataTable, element);\n",
              "          const docLink = document.createElement('div');\n",
              "          docLink.innerHTML = docLinkHtml;\n",
              "          element.appendChild(docLink);\n",
              "        }\n",
              "      </script>\n",
              "    </div>\n",
              "  </div>\n",
              "  "
            ]
          },
          "metadata": {},
          "execution_count": 52
        }
      ]
    },
    {
      "cell_type": "code",
      "source": [
        "productos = df.drop_duplicates(subset='id_producto')[['id_producto', 'detalle', 'cantidad']]\n",
        "productos"
      ],
      "metadata": {
        "colab": {
          "base_uri": "https://localhost:8080/",
          "height": 143
        },
        "id": "LTkPyaCtz9Be",
        "outputId": "b6767d0f-6f26-4995-aff8-44c1dcdcea22"
      },
      "execution_count": 53,
      "outputs": [
        {
          "output_type": "execute_result",
          "data": {
            "text/plain": [
              "   id_producto       detalle  cantidad\n",
              "0            2    lavarropas         1\n",
              "1            3  computadoras         2\n",
              "2            7       Celular         1"
            ],
            "text/html": [
              "\n",
              "  <div id=\"df-fa4a5f22-6baf-4be8-b937-52a77432bf32\">\n",
              "    <div class=\"colab-df-container\">\n",
              "      <div>\n",
              "<style scoped>\n",
              "    .dataframe tbody tr th:only-of-type {\n",
              "        vertical-align: middle;\n",
              "    }\n",
              "\n",
              "    .dataframe tbody tr th {\n",
              "        vertical-align: top;\n",
              "    }\n",
              "\n",
              "    .dataframe thead th {\n",
              "        text-align: right;\n",
              "    }\n",
              "</style>\n",
              "<table border=\"1\" class=\"dataframe\">\n",
              "  <thead>\n",
              "    <tr style=\"text-align: right;\">\n",
              "      <th></th>\n",
              "      <th>id_producto</th>\n",
              "      <th>detalle</th>\n",
              "      <th>cantidad</th>\n",
              "    </tr>\n",
              "  </thead>\n",
              "  <tbody>\n",
              "    <tr>\n",
              "      <th>0</th>\n",
              "      <td>2</td>\n",
              "      <td>lavarropas</td>\n",
              "      <td>1</td>\n",
              "    </tr>\n",
              "    <tr>\n",
              "      <th>1</th>\n",
              "      <td>3</td>\n",
              "      <td>computadoras</td>\n",
              "      <td>2</td>\n",
              "    </tr>\n",
              "    <tr>\n",
              "      <th>2</th>\n",
              "      <td>7</td>\n",
              "      <td>Celular</td>\n",
              "      <td>1</td>\n",
              "    </tr>\n",
              "  </tbody>\n",
              "</table>\n",
              "</div>\n",
              "      <button class=\"colab-df-convert\" onclick=\"convertToInteractive('df-fa4a5f22-6baf-4be8-b937-52a77432bf32')\"\n",
              "              title=\"Convert this dataframe to an interactive table.\"\n",
              "              style=\"display:none;\">\n",
              "        \n",
              "  <svg xmlns=\"http://www.w3.org/2000/svg\" height=\"24px\"viewBox=\"0 0 24 24\"\n",
              "       width=\"24px\">\n",
              "    <path d=\"M0 0h24v24H0V0z\" fill=\"none\"/>\n",
              "    <path d=\"M18.56 5.44l.94 2.06.94-2.06 2.06-.94-2.06-.94-.94-2.06-.94 2.06-2.06.94zm-11 1L8.5 8.5l.94-2.06 2.06-.94-2.06-.94L8.5 2.5l-.94 2.06-2.06.94zm10 10l.94 2.06.94-2.06 2.06-.94-2.06-.94-.94-2.06-.94 2.06-2.06.94z\"/><path d=\"M17.41 7.96l-1.37-1.37c-.4-.4-.92-.59-1.43-.59-.52 0-1.04.2-1.43.59L10.3 9.45l-7.72 7.72c-.78.78-.78 2.05 0 2.83L4 21.41c.39.39.9.59 1.41.59.51 0 1.02-.2 1.41-.59l7.78-7.78 2.81-2.81c.8-.78.8-2.07 0-2.86zM5.41 20L4 18.59l7.72-7.72 1.47 1.35L5.41 20z\"/>\n",
              "  </svg>\n",
              "      </button>\n",
              "      \n",
              "  <style>\n",
              "    .colab-df-container {\n",
              "      display:flex;\n",
              "      flex-wrap:wrap;\n",
              "      gap: 12px;\n",
              "    }\n",
              "\n",
              "    .colab-df-convert {\n",
              "      background-color: #E8F0FE;\n",
              "      border: none;\n",
              "      border-radius: 50%;\n",
              "      cursor: pointer;\n",
              "      display: none;\n",
              "      fill: #1967D2;\n",
              "      height: 32px;\n",
              "      padding: 0 0 0 0;\n",
              "      width: 32px;\n",
              "    }\n",
              "\n",
              "    .colab-df-convert:hover {\n",
              "      background-color: #E2EBFA;\n",
              "      box-shadow: 0px 1px 2px rgba(60, 64, 67, 0.3), 0px 1px 3px 1px rgba(60, 64, 67, 0.15);\n",
              "      fill: #174EA6;\n",
              "    }\n",
              "\n",
              "    [theme=dark] .colab-df-convert {\n",
              "      background-color: #3B4455;\n",
              "      fill: #D2E3FC;\n",
              "    }\n",
              "\n",
              "    [theme=dark] .colab-df-convert:hover {\n",
              "      background-color: #434B5C;\n",
              "      box-shadow: 0px 1px 3px 1px rgba(0, 0, 0, 0.15);\n",
              "      filter: drop-shadow(0px 1px 2px rgba(0, 0, 0, 0.3));\n",
              "      fill: #FFFFFF;\n",
              "    }\n",
              "  </style>\n",
              "\n",
              "      <script>\n",
              "        const buttonEl =\n",
              "          document.querySelector('#df-fa4a5f22-6baf-4be8-b937-52a77432bf32 button.colab-df-convert');\n",
              "        buttonEl.style.display =\n",
              "          google.colab.kernel.accessAllowed ? 'block' : 'none';\n",
              "\n",
              "        async function convertToInteractive(key) {\n",
              "          const element = document.querySelector('#df-fa4a5f22-6baf-4be8-b937-52a77432bf32');\n",
              "          const dataTable =\n",
              "            await google.colab.kernel.invokeFunction('convertToInteractive',\n",
              "                                                     [key], {});\n",
              "          if (!dataTable) return;\n",
              "\n",
              "          const docLinkHtml = 'Like what you see? Visit the ' +\n",
              "            '<a target=\"_blank\" href=https://colab.research.google.com/notebooks/data_table.ipynb>data table notebook</a>'\n",
              "            + ' to learn more about interactive tables.';\n",
              "          element.innerHTML = '';\n",
              "          dataTable['output_type'] = 'display_data';\n",
              "          await google.colab.output.renderOutput(dataTable, element);\n",
              "          const docLink = document.createElement('div');\n",
              "          docLink.innerHTML = docLinkHtml;\n",
              "          element.appendChild(docLink);\n",
              "        }\n",
              "      </script>\n",
              "    </div>\n",
              "  </div>\n",
              "  "
            ]
          },
          "metadata": {},
          "execution_count": 53
        }
      ]
    },
    {
      "cell_type": "code",
      "source": [
        "compras = df[['id_producto', 'id_cliente', 'cantidad']]\n",
        "compras"
      ],
      "metadata": {
        "colab": {
          "base_uri": "https://localhost:8080/",
          "height": 206
        },
        "id": "Ky62-COg0eGr",
        "outputId": "fb7c5fd3-30a1-4938-8a50-19cd97a5ed96"
      },
      "execution_count": 54,
      "outputs": [
        {
          "output_type": "execute_result",
          "data": {
            "text/plain": [
              "   id_producto  id_cliente  cantidad\n",
              "0            2         100         1\n",
              "1            3         200         2\n",
              "2            7         200         1\n",
              "3            7         300         4\n",
              "4            2         300         1"
            ],
            "text/html": [
              "\n",
              "  <div id=\"df-dc332869-41c9-4da6-99c3-a505ed259610\">\n",
              "    <div class=\"colab-df-container\">\n",
              "      <div>\n",
              "<style scoped>\n",
              "    .dataframe tbody tr th:only-of-type {\n",
              "        vertical-align: middle;\n",
              "    }\n",
              "\n",
              "    .dataframe tbody tr th {\n",
              "        vertical-align: top;\n",
              "    }\n",
              "\n",
              "    .dataframe thead th {\n",
              "        text-align: right;\n",
              "    }\n",
              "</style>\n",
              "<table border=\"1\" class=\"dataframe\">\n",
              "  <thead>\n",
              "    <tr style=\"text-align: right;\">\n",
              "      <th></th>\n",
              "      <th>id_producto</th>\n",
              "      <th>id_cliente</th>\n",
              "      <th>cantidad</th>\n",
              "    </tr>\n",
              "  </thead>\n",
              "  <tbody>\n",
              "    <tr>\n",
              "      <th>0</th>\n",
              "      <td>2</td>\n",
              "      <td>100</td>\n",
              "      <td>1</td>\n",
              "    </tr>\n",
              "    <tr>\n",
              "      <th>1</th>\n",
              "      <td>3</td>\n",
              "      <td>200</td>\n",
              "      <td>2</td>\n",
              "    </tr>\n",
              "    <tr>\n",
              "      <th>2</th>\n",
              "      <td>7</td>\n",
              "      <td>200</td>\n",
              "      <td>1</td>\n",
              "    </tr>\n",
              "    <tr>\n",
              "      <th>3</th>\n",
              "      <td>7</td>\n",
              "      <td>300</td>\n",
              "      <td>4</td>\n",
              "    </tr>\n",
              "    <tr>\n",
              "      <th>4</th>\n",
              "      <td>2</td>\n",
              "      <td>300</td>\n",
              "      <td>1</td>\n",
              "    </tr>\n",
              "  </tbody>\n",
              "</table>\n",
              "</div>\n",
              "      <button class=\"colab-df-convert\" onclick=\"convertToInteractive('df-dc332869-41c9-4da6-99c3-a505ed259610')\"\n",
              "              title=\"Convert this dataframe to an interactive table.\"\n",
              "              style=\"display:none;\">\n",
              "        \n",
              "  <svg xmlns=\"http://www.w3.org/2000/svg\" height=\"24px\"viewBox=\"0 0 24 24\"\n",
              "       width=\"24px\">\n",
              "    <path d=\"M0 0h24v24H0V0z\" fill=\"none\"/>\n",
              "    <path d=\"M18.56 5.44l.94 2.06.94-2.06 2.06-.94-2.06-.94-.94-2.06-.94 2.06-2.06.94zm-11 1L8.5 8.5l.94-2.06 2.06-.94-2.06-.94L8.5 2.5l-.94 2.06-2.06.94zm10 10l.94 2.06.94-2.06 2.06-.94-2.06-.94-.94-2.06-.94 2.06-2.06.94z\"/><path d=\"M17.41 7.96l-1.37-1.37c-.4-.4-.92-.59-1.43-.59-.52 0-1.04.2-1.43.59L10.3 9.45l-7.72 7.72c-.78.78-.78 2.05 0 2.83L4 21.41c.39.39.9.59 1.41.59.51 0 1.02-.2 1.41-.59l7.78-7.78 2.81-2.81c.8-.78.8-2.07 0-2.86zM5.41 20L4 18.59l7.72-7.72 1.47 1.35L5.41 20z\"/>\n",
              "  </svg>\n",
              "      </button>\n",
              "      \n",
              "  <style>\n",
              "    .colab-df-container {\n",
              "      display:flex;\n",
              "      flex-wrap:wrap;\n",
              "      gap: 12px;\n",
              "    }\n",
              "\n",
              "    .colab-df-convert {\n",
              "      background-color: #E8F0FE;\n",
              "      border: none;\n",
              "      border-radius: 50%;\n",
              "      cursor: pointer;\n",
              "      display: none;\n",
              "      fill: #1967D2;\n",
              "      height: 32px;\n",
              "      padding: 0 0 0 0;\n",
              "      width: 32px;\n",
              "    }\n",
              "\n",
              "    .colab-df-convert:hover {\n",
              "      background-color: #E2EBFA;\n",
              "      box-shadow: 0px 1px 2px rgba(60, 64, 67, 0.3), 0px 1px 3px 1px rgba(60, 64, 67, 0.15);\n",
              "      fill: #174EA6;\n",
              "    }\n",
              "\n",
              "    [theme=dark] .colab-df-convert {\n",
              "      background-color: #3B4455;\n",
              "      fill: #D2E3FC;\n",
              "    }\n",
              "\n",
              "    [theme=dark] .colab-df-convert:hover {\n",
              "      background-color: #434B5C;\n",
              "      box-shadow: 0px 1px 3px 1px rgba(0, 0, 0, 0.15);\n",
              "      filter: drop-shadow(0px 1px 2px rgba(0, 0, 0, 0.3));\n",
              "      fill: #FFFFFF;\n",
              "    }\n",
              "  </style>\n",
              "\n",
              "      <script>\n",
              "        const buttonEl =\n",
              "          document.querySelector('#df-dc332869-41c9-4da6-99c3-a505ed259610 button.colab-df-convert');\n",
              "        buttonEl.style.display =\n",
              "          google.colab.kernel.accessAllowed ? 'block' : 'none';\n",
              "\n",
              "        async function convertToInteractive(key) {\n",
              "          const element = document.querySelector('#df-dc332869-41c9-4da6-99c3-a505ed259610');\n",
              "          const dataTable =\n",
              "            await google.colab.kernel.invokeFunction('convertToInteractive',\n",
              "                                                     [key], {});\n",
              "          if (!dataTable) return;\n",
              "\n",
              "          const docLinkHtml = 'Like what you see? Visit the ' +\n",
              "            '<a target=\"_blank\" href=https://colab.research.google.com/notebooks/data_table.ipynb>data table notebook</a>'\n",
              "            + ' to learn more about interactive tables.';\n",
              "          element.innerHTML = '';\n",
              "          dataTable['output_type'] = 'display_data';\n",
              "          await google.colab.output.renderOutput(dataTable, element);\n",
              "          const docLink = document.createElement('div');\n",
              "          docLink.innerHTML = docLinkHtml;\n",
              "          element.appendChild(docLink);\n",
              "        }\n",
              "      </script>\n",
              "    </div>\n",
              "  </div>\n",
              "  "
            ]
          },
          "metadata": {},
          "execution_count": 54
        }
      ]
    }
  ]
}