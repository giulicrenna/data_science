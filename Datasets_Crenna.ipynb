{
  "nbformat": 4,
  "nbformat_minor": 0,
  "metadata": {
    "colab": {
      "provenance": [],
      "authorship_tag": "ABX9TyMX/jtEJa3lD7LVRuGLo2iA",
      "include_colab_link": true
    },
    "kernelspec": {
      "name": "python3",
      "display_name": "Python 3"
    },
    "language_info": {
      "name": "python"
    }
  },
  "cells": [
    {
      "cell_type": "markdown",
      "metadata": {
        "id": "view-in-github",
        "colab_type": "text"
      },
      "source": [
        "<a href=\"https://colab.research.google.com/github/giulicrenna/data_science/blob/main/Datasets_Crenna.ipynb\" target=\"_parent\"><img src=\"https://colab.research.google.com/assets/colab-badge.svg\" alt=\"Open In Colab\"/></a>"
      ]
    },
    {
      "cell_type": "code",
      "execution_count": null,
      "metadata": {
        "id": "yB_G_ORQHd0B",
        "colab": {
          "base_uri": "https://localhost:8080/"
        },
        "outputId": "0ffdaf69-c3ee-44e9-90fc-9fd3ebe7312c"
      },
      "outputs": [
        {
          "output_type": "stream",
          "name": "stdout",
          "text": [
            "Mounted at /content/drive\n"
          ]
        }
      ],
      "source": [
        "import pandas as pd\n",
        "from matplotlib.pyplot import *\n",
        "from google.colab import drive\n",
        "import seaborn as sb\n",
        "\n",
        "drive.mount('/content/drive');\n",
        "\n",
        "covid_cases_argentina_csv = pd.read_excel(\"/content/drive/MyDrive/Colab Notebooks/CasosCovidArgentina.xlsx\")\n",
        "covid_cases_csv = pd.read_csv(\"/content/drive/MyDrive/Colab Notebooks/covid.csv\")\n",
        "diabetes_cases_csv = pd.read_excel(\"/content/drive/MyDrive/Colab Notebooks/diabetes_dataset__2019.xlsx\")       "
      ]
    },
    {
      "cell_type": "markdown",
      "source": [
        "---\n",
        "## **Casos de Covid-19 Argentina**\n",
        "Este dataset es el más masivo de los tres, contiene 25 columnas y mas de 20 millones de filas.\n",
        "Las variables más interesantes que me parece analizar son el rango etario de mortalidad, las provinvias más afectadas, como afectó a los diferentes sexos y como afectó a los sexos en relación a la edad."
      ],
      "metadata": {
        "id": "SwlJUOUftFCZ"
      }
    },
    {
      "cell_type": "code",
      "source": [
        "covid_cases_argentina_csv.tail(5)"
      ],
      "metadata": {
        "id": "_4OEJ-uGIPI8",
        "colab": {
          "base_uri": "https://localhost:8080/"
        },
        "outputId": "fd79955d-cf2c-4231-a03e-a5052a00ed45"
      },
      "execution_count": null,
      "outputs": [
        {
          "output_type": "execute_result",
          "data": {
            "text/plain": [
              "        id_evento_caso sexo  edad edad_años_meses residencia_pais_nombre  \\\n",
              "999995        10964856    M   1.0            Años              Argentina   \n",
              "999996        10964857    F  63.0            Años              Argentina   \n",
              "999997        10964858    M  50.0            Años              Argentina   \n",
              "999998        10964859    F  71.0            Años              Argentina   \n",
              "999999         1096486    M  30.0            Años              Argentina   \n",
              "\n",
              "       residencia_provincia_nombre residencia_departamento_nombre  \\\n",
              "999995                    Santa Fe                        Rosario   \n",
              "999996                  Santa Cruz                      Güer Aike   \n",
              "999997            Tierra del Fuego                        Ushuaia   \n",
              "999998                     Neuquén                         Zapala   \n",
              "999999                     Tucumán                        Capital   \n",
              "\n",
              "       carga_provincia_nombre fecha_inicio_sintomas fecha_apertura  ...  \\\n",
              "999995               Santa Fe                   NaT     2021-04-22  ...   \n",
              "999996             Santa Cruz                   NaT     2021-04-22  ...   \n",
              "999997       Tierra del Fuego                   NaT     2021-04-22  ...   \n",
              "999998                Neuquén            2021-04-18     2021-04-22  ...   \n",
              "999999                Tucumán                   NaT     2020-06-17  ...   \n",
              "\n",
              "        fecha_fallecimiento asistencia_respiratoria_mecanica  \\\n",
              "999995                  NaT                               NO   \n",
              "999996                  NaT                               NO   \n",
              "999997                  NaT                               NO   \n",
              "999998           2021-05-30                               SI   \n",
              "999999                  NaT                               NO   \n",
              "\n",
              "       carga_provincia_id origen_financiamiento  \\\n",
              "999995                 82               Público   \n",
              "999996                 78               Público   \n",
              "999997                 94               Público   \n",
              "999998                 58               Público   \n",
              "999999                 90               Público   \n",
              "\n",
              "                                            clasificacion  \\\n",
              "999995                                    Caso Descartado   \n",
              "999996                                    Caso Descartado   \n",
              "999997  Caso confirmado por laboratorio - No activo (p...   \n",
              "999998        Caso confirmado por laboratorio - Fallecido   \n",
              "999999                                    Caso Descartado   \n",
              "\n",
              "       clasificacion_resumen residencia_provincia_id  fecha_diagnostico  \\\n",
              "999995            Descartado                      82         2021-04-21   \n",
              "999996            Descartado                      78         2021-04-18   \n",
              "999997            Confirmado                      94         2021-04-21   \n",
              "999998            Confirmado                      58         2021-05-05   \n",
              "999999            Descartado                      90         2020-06-19   \n",
              "\n",
              "       residencia_departamento_id ultima_actualizacion  \n",
              "999995                         84           2022-06-05  \n",
              "999996                         21           2022-06-05  \n",
              "999997                         14           2022-06-05  \n",
              "999998                        112           2022-06-05  \n",
              "999999                         84           2022-06-05  \n",
              "\n",
              "[5 rows x 25 columns]"
            ],
            "text/html": [
              "\n",
              "  <div id=\"df-7d7c6ef7-9238-402a-a4b6-9e151dadaa32\">\n",
              "    <div class=\"colab-df-container\">\n",
              "      <div>\n",
              "<style scoped>\n",
              "    .dataframe tbody tr th:only-of-type {\n",
              "        vertical-align: middle;\n",
              "    }\n",
              "\n",
              "    .dataframe tbody tr th {\n",
              "        vertical-align: top;\n",
              "    }\n",
              "\n",
              "    .dataframe thead th {\n",
              "        text-align: right;\n",
              "    }\n",
              "</style>\n",
              "<table border=\"1\" class=\"dataframe\">\n",
              "  <thead>\n",
              "    <tr style=\"text-align: right;\">\n",
              "      <th></th>\n",
              "      <th>id_evento_caso</th>\n",
              "      <th>sexo</th>\n",
              "      <th>edad</th>\n",
              "      <th>edad_años_meses</th>\n",
              "      <th>residencia_pais_nombre</th>\n",
              "      <th>residencia_provincia_nombre</th>\n",
              "      <th>residencia_departamento_nombre</th>\n",
              "      <th>carga_provincia_nombre</th>\n",
              "      <th>fecha_inicio_sintomas</th>\n",
              "      <th>fecha_apertura</th>\n",
              "      <th>...</th>\n",
              "      <th>fecha_fallecimiento</th>\n",
              "      <th>asistencia_respiratoria_mecanica</th>\n",
              "      <th>carga_provincia_id</th>\n",
              "      <th>origen_financiamiento</th>\n",
              "      <th>clasificacion</th>\n",
              "      <th>clasificacion_resumen</th>\n",
              "      <th>residencia_provincia_id</th>\n",
              "      <th>fecha_diagnostico</th>\n",
              "      <th>residencia_departamento_id</th>\n",
              "      <th>ultima_actualizacion</th>\n",
              "    </tr>\n",
              "  </thead>\n",
              "  <tbody>\n",
              "    <tr>\n",
              "      <th>999995</th>\n",
              "      <td>10964856</td>\n",
              "      <td>M</td>\n",
              "      <td>1.0</td>\n",
              "      <td>Años</td>\n",
              "      <td>Argentina</td>\n",
              "      <td>Santa Fe</td>\n",
              "      <td>Rosario</td>\n",
              "      <td>Santa Fe</td>\n",
              "      <td>NaT</td>\n",
              "      <td>2021-04-22</td>\n",
              "      <td>...</td>\n",
              "      <td>NaT</td>\n",
              "      <td>NO</td>\n",
              "      <td>82</td>\n",
              "      <td>Público</td>\n",
              "      <td>Caso Descartado</td>\n",
              "      <td>Descartado</td>\n",
              "      <td>82</td>\n",
              "      <td>2021-04-21</td>\n",
              "      <td>84</td>\n",
              "      <td>2022-06-05</td>\n",
              "    </tr>\n",
              "    <tr>\n",
              "      <th>999996</th>\n",
              "      <td>10964857</td>\n",
              "      <td>F</td>\n",
              "      <td>63.0</td>\n",
              "      <td>Años</td>\n",
              "      <td>Argentina</td>\n",
              "      <td>Santa Cruz</td>\n",
              "      <td>Güer Aike</td>\n",
              "      <td>Santa Cruz</td>\n",
              "      <td>NaT</td>\n",
              "      <td>2021-04-22</td>\n",
              "      <td>...</td>\n",
              "      <td>NaT</td>\n",
              "      <td>NO</td>\n",
              "      <td>78</td>\n",
              "      <td>Público</td>\n",
              "      <td>Caso Descartado</td>\n",
              "      <td>Descartado</td>\n",
              "      <td>78</td>\n",
              "      <td>2021-04-18</td>\n",
              "      <td>21</td>\n",
              "      <td>2022-06-05</td>\n",
              "    </tr>\n",
              "    <tr>\n",
              "      <th>999997</th>\n",
              "      <td>10964858</td>\n",
              "      <td>M</td>\n",
              "      <td>50.0</td>\n",
              "      <td>Años</td>\n",
              "      <td>Argentina</td>\n",
              "      <td>Tierra del Fuego</td>\n",
              "      <td>Ushuaia</td>\n",
              "      <td>Tierra del Fuego</td>\n",
              "      <td>NaT</td>\n",
              "      <td>2021-04-22</td>\n",
              "      <td>...</td>\n",
              "      <td>NaT</td>\n",
              "      <td>NO</td>\n",
              "      <td>94</td>\n",
              "      <td>Público</td>\n",
              "      <td>Caso confirmado por laboratorio - No activo (p...</td>\n",
              "      <td>Confirmado</td>\n",
              "      <td>94</td>\n",
              "      <td>2021-04-21</td>\n",
              "      <td>14</td>\n",
              "      <td>2022-06-05</td>\n",
              "    </tr>\n",
              "    <tr>\n",
              "      <th>999998</th>\n",
              "      <td>10964859</td>\n",
              "      <td>F</td>\n",
              "      <td>71.0</td>\n",
              "      <td>Años</td>\n",
              "      <td>Argentina</td>\n",
              "      <td>Neuquén</td>\n",
              "      <td>Zapala</td>\n",
              "      <td>Neuquén</td>\n",
              "      <td>2021-04-18</td>\n",
              "      <td>2021-04-22</td>\n",
              "      <td>...</td>\n",
              "      <td>2021-05-30</td>\n",
              "      <td>SI</td>\n",
              "      <td>58</td>\n",
              "      <td>Público</td>\n",
              "      <td>Caso confirmado por laboratorio - Fallecido</td>\n",
              "      <td>Confirmado</td>\n",
              "      <td>58</td>\n",
              "      <td>2021-05-05</td>\n",
              "      <td>112</td>\n",
              "      <td>2022-06-05</td>\n",
              "    </tr>\n",
              "    <tr>\n",
              "      <th>999999</th>\n",
              "      <td>1096486</td>\n",
              "      <td>M</td>\n",
              "      <td>30.0</td>\n",
              "      <td>Años</td>\n",
              "      <td>Argentina</td>\n",
              "      <td>Tucumán</td>\n",
              "      <td>Capital</td>\n",
              "      <td>Tucumán</td>\n",
              "      <td>NaT</td>\n",
              "      <td>2020-06-17</td>\n",
              "      <td>...</td>\n",
              "      <td>NaT</td>\n",
              "      <td>NO</td>\n",
              "      <td>90</td>\n",
              "      <td>Público</td>\n",
              "      <td>Caso Descartado</td>\n",
              "      <td>Descartado</td>\n",
              "      <td>90</td>\n",
              "      <td>2020-06-19</td>\n",
              "      <td>84</td>\n",
              "      <td>2022-06-05</td>\n",
              "    </tr>\n",
              "  </tbody>\n",
              "</table>\n",
              "<p>5 rows × 25 columns</p>\n",
              "</div>\n",
              "      <button class=\"colab-df-convert\" onclick=\"convertToInteractive('df-7d7c6ef7-9238-402a-a4b6-9e151dadaa32')\"\n",
              "              title=\"Convert this dataframe to an interactive table.\"\n",
              "              style=\"display:none;\">\n",
              "        \n",
              "  <svg xmlns=\"http://www.w3.org/2000/svg\" height=\"24px\"viewBox=\"0 0 24 24\"\n",
              "       width=\"24px\">\n",
              "    <path d=\"M0 0h24v24H0V0z\" fill=\"none\"/>\n",
              "    <path d=\"M18.56 5.44l.94 2.06.94-2.06 2.06-.94-2.06-.94-.94-2.06-.94 2.06-2.06.94zm-11 1L8.5 8.5l.94-2.06 2.06-.94-2.06-.94L8.5 2.5l-.94 2.06-2.06.94zm10 10l.94 2.06.94-2.06 2.06-.94-2.06-.94-.94-2.06-.94 2.06-2.06.94z\"/><path d=\"M17.41 7.96l-1.37-1.37c-.4-.4-.92-.59-1.43-.59-.52 0-1.04.2-1.43.59L10.3 9.45l-7.72 7.72c-.78.78-.78 2.05 0 2.83L4 21.41c.39.39.9.59 1.41.59.51 0 1.02-.2 1.41-.59l7.78-7.78 2.81-2.81c.8-.78.8-2.07 0-2.86zM5.41 20L4 18.59l7.72-7.72 1.47 1.35L5.41 20z\"/>\n",
              "  </svg>\n",
              "      </button>\n",
              "      \n",
              "  <style>\n",
              "    .colab-df-container {\n",
              "      display:flex;\n",
              "      flex-wrap:wrap;\n",
              "      gap: 12px;\n",
              "    }\n",
              "\n",
              "    .colab-df-convert {\n",
              "      background-color: #E8F0FE;\n",
              "      border: none;\n",
              "      border-radius: 50%;\n",
              "      cursor: pointer;\n",
              "      display: none;\n",
              "      fill: #1967D2;\n",
              "      height: 32px;\n",
              "      padding: 0 0 0 0;\n",
              "      width: 32px;\n",
              "    }\n",
              "\n",
              "    .colab-df-convert:hover {\n",
              "      background-color: #E2EBFA;\n",
              "      box-shadow: 0px 1px 2px rgba(60, 64, 67, 0.3), 0px 1px 3px 1px rgba(60, 64, 67, 0.15);\n",
              "      fill: #174EA6;\n",
              "    }\n",
              "\n",
              "    [theme=dark] .colab-df-convert {\n",
              "      background-color: #3B4455;\n",
              "      fill: #D2E3FC;\n",
              "    }\n",
              "\n",
              "    [theme=dark] .colab-df-convert:hover {\n",
              "      background-color: #434B5C;\n",
              "      box-shadow: 0px 1px 3px 1px rgba(0, 0, 0, 0.15);\n",
              "      filter: drop-shadow(0px 1px 2px rgba(0, 0, 0, 0.3));\n",
              "      fill: #FFFFFF;\n",
              "    }\n",
              "  </style>\n",
              "\n",
              "      <script>\n",
              "        const buttonEl =\n",
              "          document.querySelector('#df-7d7c6ef7-9238-402a-a4b6-9e151dadaa32 button.colab-df-convert');\n",
              "        buttonEl.style.display =\n",
              "          google.colab.kernel.accessAllowed ? 'block' : 'none';\n",
              "\n",
              "        async function convertToInteractive(key) {\n",
              "          const element = document.querySelector('#df-7d7c6ef7-9238-402a-a4b6-9e151dadaa32');\n",
              "          const dataTable =\n",
              "            await google.colab.kernel.invokeFunction('convertToInteractive',\n",
              "                                                     [key], {});\n",
              "          if (!dataTable) return;\n",
              "\n",
              "          const docLinkHtml = 'Like what you see? Visit the ' +\n",
              "            '<a target=\"_blank\" href=https://colab.research.google.com/notebooks/data_table.ipynb>data table notebook</a>'\n",
              "            + ' to learn more about interactive tables.';\n",
              "          element.innerHTML = '';\n",
              "          dataTable['output_type'] = 'display_data';\n",
              "          await google.colab.output.renderOutput(dataTable, element);\n",
              "          const docLink = document.createElement('div');\n",
              "          docLink.innerHTML = docLinkHtml;\n",
              "          element.appendChild(docLink);\n",
              "        }\n",
              "      </script>\n",
              "    </div>\n",
              "  </div>\n",
              "  "
            ]
          },
          "metadata": {},
          "execution_count": 2
        }
      ]
    },
    {
      "cell_type": "markdown",
      "source": [
        "Como podemos ver el rango etario de mayor mortalidad está situado entre los 25 y 35 años. ademas los quartiles nos permiten ver los rangos de edad mas y menos afectados por el covid.\n"
      ],
      "metadata": {
        "id": "v0f4V7dz5iir"
      }
    },
    {
      "cell_type": "code",
      "source": [
        "ages = covid_cases_argentina_csv[[\"edad\", \"fallecido\"]]\n",
        "ages = ages.drop(ages[ages.edad > 150].index).dropna()\n",
        "ages = ages.drop(ages[ages.fallecido == \"SI\"].index)\n",
        "#ages = ages.groupby([\"edad\", \"sexo\"]).count()  Hay muchos datos del tipo sexo no reconocido\n",
        "ages = ages.groupby([\"edad\"]).count()\n",
        "\n",
        "# Lineas verticales de los quartiles en listas\n",
        "q25 = ages.loc[abs(ages[\"fallecido\"] - ages[\"fallecido\"].quantile(.25)) <= 500].reset_index().head(2)[\"edad\"].to_list()\n",
        "q50 = ages.loc[abs(ages[\"fallecido\"] - ages[\"fallecido\"].quantile(.5)) <= 500].reset_index().head(2)[\"edad\"].to_list()\n",
        "q75 = ages.loc[abs(ages[\"fallecido\"] - ages[\"fallecido\"].quantile(.75)) <= 500].reset_index().head(2)[\"edad\"].to_list()\n",
        "\n",
        "ages_plot = ages.plot.line(figsize=(20, 5), ylabel=\"Muertos\", color=\"r\", lw=3)\n",
        "ages_plot.axvline(ages[\"fallecido\"].idxmax(), color=\"blue\", linestyle=\"--\", ymax = .95)\n",
        "ages_plot.axvline(q25[0], color=\"green\", linestyle=\"--\", ymax = .11)\n",
        "ages_plot.axvline(q50[0], color=\"black\", linestyle=\"--\", ymax = .23)\n",
        "ages_plot.axvline(q50[1], color=\"black\", linestyle=\"--\", ymax = .25)\n",
        "ages_plot.axvline(q75[0], color=\"red\", linestyle=\"--\", ymax = .62)\n",
        "ages_plot.axvline(q75[1], color=\"red\", linestyle=\"--\", ymax = .65)"
      ],
      "metadata": {
        "colab": {
          "base_uri": "https://localhost:8080/"
        },
        "id": "xTzlInUHuQ2M",
        "outputId": "7e7efecc-fb1e-402f-84f7-6700f1920fa7"
      },
      "execution_count": null,
      "outputs": [
        {
          "output_type": "execute_result",
          "data": {
            "text/plain": [
              "<matplotlib.lines.Line2D at 0x7fe8acf9f700>"
            ]
          },
          "metadata": {},
          "execution_count": 3
        },
        {
          "output_type": "display_data",
          "data": {
            "text/plain": [
              "<Figure size 1440x360 with 1 Axes>"
            ],
            "image/png": "[encoded data removed]"
          },
          "metadata": {
            "needs_background": "light"
          }
        }
      ]
    },
    {
      "cell_type": "code",
      "source": [
        "quantiles = ages.describe()\n",
        "quantiles.plot.box();"
      ],
      "metadata": {
        "colab": {
          "base_uri": "https://localhost:8080/"
        },
        "id": "JbHbuPqHuQtN",
        "outputId": "e4f001c1-2da1-47c3-db4d-c840dce3427e"
      },
      "execution_count": null,
      "outputs": [
        {
          "output_type": "display_data",
          "data": {
            "text/plain": [
              "<Figure size 432x288 with 1 Axes>"
            ],
            "image/png": "[encoded data removed]"
          },
          "metadata": {
            "needs_background": "light"
          }
        }
      ]
    },
    {
      "cell_type": "markdown",
      "source": [
        "---\n",
        "## **Casos de covid periodo 2020**  \n",
        "Este datasets tiene solamente 183 filas, las cuales representan los países de dónde fueron extraídos los datos.\n",
        "En este datasets hay un montón de datos interensantes. En mi opinion las variable que rescato son las muertes cada 100 casos, los recuperados cada 100 casos y los muertos cada 100 recuperados."
      ],
      "metadata": {
        "id": "Xy3HF2IZTDPb"
      }
    },
    {
      "cell_type": "code",
      "source": [
        "covid_cases_csv.head(5).sort_values(\"Confirmed\")"
      ],
      "metadata": {
        "id": "5Qu0oDgGNuXx",
        "colab": {
          "base_uri": "https://localhost:8080/"
        },
        "outputId": "d546299b-1f8f-4200-ff0a-fac304ea218f"
      },
      "execution_count": null,
      "outputs": [
        {
          "output_type": "execute_result",
          "data": {
            "text/plain": [
              "  Country/Region  Confirmed  Deaths  Recovered  Active  New cases  New deaths  \\\n",
              "3        Andorra        907      52        803      52         10           0   \n",
              "4         Angola        950      41        242     667         18           1   \n",
              "1        Albania       4880     144       2745    1991        117           6   \n",
              "2        Algeria      27973    1163      18837    7973        616           8   \n",
              "0    Afghanistan      36263    1269      25198    9796        106          10   \n",
              "\n",
              "   New recovered  Deaths / 100 Cases  Recovered / 100 Cases  \\\n",
              "3              0                5.73                  88.53   \n",
              "4              0                4.32                  25.47   \n",
              "1             63                2.95                  56.25   \n",
              "2            749                4.16                  67.34   \n",
              "0             18                3.50                  69.49   \n",
              "\n",
              "   Deaths / 100 Recovered  Confirmed last week  1 week change  \\\n",
              "3                    6.48                  884             23   \n",
              "4                   16.94                  749            201   \n",
              "1                    5.25                 4171            709   \n",
              "2                    6.17                23691           4282   \n",
              "0                    5.04                35526            737   \n",
              "\n",
              "   1 week % increase             WHO Region  \n",
              "3               2.60                 Europe  \n",
              "4              26.84                 Africa  \n",
              "1              17.00                 Europe  \n",
              "2              18.07                 Africa  \n",
              "0               2.07  Eastern Mediterranean  "
            ],
            "text/html": [
              "\n",
              "  <div id=\"df-8c466ee5-43a4-4244-ae32-4f2cdf71a95d\">\n",
              "    <div class=\"colab-df-container\">\n",
              "      <div>\n",
              "<style scoped>\n",
              "    .dataframe tbody tr th:only-of-type {\n",
              "        vertical-align: middle;\n",
              "    }\n",
              "\n",
              "    .dataframe tbody tr th {\n",
              "        vertical-align: top;\n",
              "    }\n",
              "\n",
              "    .dataframe thead th {\n",
              "        text-align: right;\n",
              "    }\n",
              "</style>\n",
              "<table border=\"1\" class=\"dataframe\">\n",
              "  <thead>\n",
              "    <tr style=\"text-align: right;\">\n",
              "      <th></th>\n",
              "      <th>Country/Region</th>\n",
              "      <th>Confirmed</th>\n",
              "      <th>Deaths</th>\n",
              "      <th>Recovered</th>\n",
              "      <th>Active</th>\n",
              "      <th>New cases</th>\n",
              "      <th>New deaths</th>\n",
              "      <th>New recovered</th>\n",
              "      <th>Deaths / 100 Cases</th>\n",
              "      <th>Recovered / 100 Cases</th>\n",
              "      <th>Deaths / 100 Recovered</th>\n",
              "      <th>Confirmed last week</th>\n",
              "      <th>1 week change</th>\n",
              "      <th>1 week % increase</th>\n",
              "      <th>WHO Region</th>\n",
              "    </tr>\n",
              "  </thead>\n",
              "  <tbody>\n",
              "    <tr>\n",
              "      <th>3</th>\n",
              "      <td>Andorra</td>\n",
              "      <td>907</td>\n",
              "      <td>52</td>\n",
              "      <td>803</td>\n",
              "      <td>52</td>\n",
              "      <td>10</td>\n",
              "      <td>0</td>\n",
              "      <td>0</td>\n",
              "      <td>5.73</td>\n",
              "      <td>88.53</td>\n",
              "      <td>6.48</td>\n",
              "      <td>884</td>\n",
              "      <td>23</td>\n",
              "      <td>2.60</td>\n",
              "      <td>Europe</td>\n",
              "    </tr>\n",
              "    <tr>\n",
              "      <th>4</th>\n",
              "      <td>Angola</td>\n",
              "      <td>950</td>\n",
              "      <td>41</td>\n",
              "      <td>242</td>\n",
              "      <td>667</td>\n",
              "      <td>18</td>\n",
              "      <td>1</td>\n",
              "      <td>0</td>\n",
              "      <td>4.32</td>\n",
              "      <td>25.47</td>\n",
              "      <td>16.94</td>\n",
              "      <td>749</td>\n",
              "      <td>201</td>\n",
              "      <td>26.84</td>\n",
              "      <td>Africa</td>\n",
              "    </tr>\n",
              "    <tr>\n",
              "      <th>1</th>\n",
              "      <td>Albania</td>\n",
              "      <td>4880</td>\n",
              "      <td>144</td>\n",
              "      <td>2745</td>\n",
              "      <td>1991</td>\n",
              "      <td>117</td>\n",
              "      <td>6</td>\n",
              "      <td>63</td>\n",
              "      <td>2.95</td>\n",
              "      <td>56.25</td>\n",
              "      <td>5.25</td>\n",
              "      <td>4171</td>\n",
              "      <td>709</td>\n",
              "      <td>17.00</td>\n",
              "      <td>Europe</td>\n",
              "    </tr>\n",
              "    <tr>\n",
              "      <th>2</th>\n",
              "      <td>Algeria</td>\n",
              "      <td>27973</td>\n",
              "      <td>1163</td>\n",
              "      <td>18837</td>\n",
              "      <td>7973</td>\n",
              "      <td>616</td>\n",
              "      <td>8</td>\n",
              "      <td>749</td>\n",
              "      <td>4.16</td>\n",
              "      <td>67.34</td>\n",
              "      <td>6.17</td>\n",
              "      <td>23691</td>\n",
              "      <td>4282</td>\n",
              "      <td>18.07</td>\n",
              "      <td>Africa</td>\n",
              "    </tr>\n",
              "    <tr>\n",
              "      <th>0</th>\n",
              "      <td>Afghanistan</td>\n",
              "      <td>36263</td>\n",
              "      <td>1269</td>\n",
              "      <td>25198</td>\n",
              "      <td>9796</td>\n",
              "      <td>106</td>\n",
              "      <td>10</td>\n",
              "      <td>18</td>\n",
              "      <td>3.50</td>\n",
              "      <td>69.49</td>\n",
              "      <td>5.04</td>\n",
              "      <td>35526</td>\n",
              "      <td>737</td>\n",
              "      <td>2.07</td>\n",
              "      <td>Eastern Mediterranean</td>\n",
              "    </tr>\n",
              "  </tbody>\n",
              "</table>\n",
              "</div>\n",
              "      <button class=\"colab-df-convert\" onclick=\"convertToInteractive('df-8c466ee5-43a4-4244-ae32-4f2cdf71a95d')\"\n",
              "              title=\"Convert this dataframe to an interactive table.\"\n",
              "              style=\"display:none;\">\n",
              "        \n",
              "  <svg xmlns=\"http://www.w3.org/2000/svg\" height=\"24px\"viewBox=\"0 0 24 24\"\n",
              "       width=\"24px\">\n",
              "    <path d=\"M0 0h24v24H0V0z\" fill=\"none\"/>\n",
              "    <path d=\"M18.56 5.44l.94 2.06.94-2.06 2.06-.94-2.06-.94-.94-2.06-.94 2.06-2.06.94zm-11 1L8.5 8.5l.94-2.06 2.06-.94-2.06-.94L8.5 2.5l-.94 2.06-2.06.94zm10 10l.94 2.06.94-2.06 2.06-.94-2.06-.94-.94-2.06-.94 2.06-2.06.94z\"/><path d=\"M17.41 7.96l-1.37-1.37c-.4-.4-.92-.59-1.43-.59-.52 0-1.04.2-1.43.59L10.3 9.45l-7.72 7.72c-.78.78-.78 2.05 0 2.83L4 21.41c.39.39.9.59 1.41.59.51 0 1.02-.2 1.41-.59l7.78-7.78 2.81-2.81c.8-.78.8-2.07 0-2.86zM5.41 20L4 18.59l7.72-7.72 1.47 1.35L5.41 20z\"/>\n",
              "  </svg>\n",
              "      </button>\n",
              "      \n",
              "  <style>\n",
              "    .colab-df-container {\n",
              "      display:flex;\n",
              "      flex-wrap:wrap;\n",
              "      gap: 12px;\n",
              "    }\n",
              "\n",
              "    .colab-df-convert {\n",
              "      background-color: #E8F0FE;\n",
              "      border: none;\n",
              "      border-radius: 50%;\n",
              "      cursor: pointer;\n",
              "      display: none;\n",
              "      fill: #1967D2;\n",
              "      height: 32px;\n",
              "      padding: 0 0 0 0;\n",
              "      width: 32px;\n",
              "    }\n",
              "\n",
              "    .colab-df-convert:hover {\n",
              "      background-color: #E2EBFA;\n",
              "      box-shadow: 0px 1px 2px rgba(60, 64, 67, 0.3), 0px 1px 3px 1px rgba(60, 64, 67, 0.15);\n",
              "      fill: #174EA6;\n",
              "    }\n",
              "\n",
              "    [theme=dark] .colab-df-convert {\n",
              "      background-color: #3B4455;\n",
              "      fill: #D2E3FC;\n",
              "    }\n",
              "\n",
              "    [theme=dark] .colab-df-convert:hover {\n",
              "      background-color: #434B5C;\n",
              "      box-shadow: 0px 1px 3px 1px rgba(0, 0, 0, 0.15);\n",
              "      filter: drop-shadow(0px 1px 2px rgba(0, 0, 0, 0.3));\n",
              "      fill: #FFFFFF;\n",
              "    }\n",
              "  </style>\n",
              "\n",
              "      <script>\n",
              "        const buttonEl =\n",
              "          document.querySelector('#df-8c466ee5-43a4-4244-ae32-4f2cdf71a95d button.colab-df-convert');\n",
              "        buttonEl.style.display =\n",
              "          google.colab.kernel.accessAllowed ? 'block' : 'none';\n",
              "\n",
              "        async function convertToInteractive(key) {\n",
              "          const element = document.querySelector('#df-8c466ee5-43a4-4244-ae32-4f2cdf71a95d');\n",
              "          const dataTable =\n",
              "            await google.colab.kernel.invokeFunction('convertToInteractive',\n",
              "                                                     [key], {});\n",
              "          if (!dataTable) return;\n",
              "\n",
              "          const docLinkHtml = 'Like what you see? Visit the ' +\n",
              "            '<a target=\"_blank\" href=https://colab.research.google.com/notebooks/data_table.ipynb>data table notebook</a>'\n",
              "            + ' to learn more about interactive tables.';\n",
              "          element.innerHTML = '';\n",
              "          dataTable['output_type'] = 'display_data';\n",
              "          await google.colab.output.renderOutput(dataTable, element);\n",
              "          const docLink = document.createElement('div');\n",
              "          docLink.innerHTML = docLinkHtml;\n",
              "          element.appendChild(docLink);\n",
              "        }\n",
              "      </script>\n",
              "    </div>\n",
              "  </div>\n",
              "  "
            ]
          },
          "metadata": {},
          "execution_count": 5
        }
      ]
    },
    {
      "cell_type": "markdown",
      "source": [
        "Ahora ordenaremos los países de mayor a menor para ver las muertes por covid cada 100 casos. y graficaremos de mayor a menor los países en relación a la cantidad de muertes cada 100 casos."
      ],
      "metadata": {
        "id": "KN1gL63DURjk"
      }
    },
    {
      "cell_type": "code",
      "source": [
        "covid_cases_csv.sort_values(\"Deaths / 100 Cases\", ascending = False, inplace=True)\n",
        "countries = covid_cases_csv[\"Country/Region\"]\n",
        "covid_cases_csv[[\"Country/Region\", \"Deaths / 100 Cases\"]].set_index(countries).plot.bar(figsize=(30, 5), title=\"Muertes cada 100 casos\");"
      ],
      "metadata": {
        "id": "Pnf1l6hdTK8g",
        "colab": {
          "base_uri": "https://localhost:8080/"
        },
        "outputId": "5ee284ac-3d00-4cea-a378-7767f2e7a48c"
      },
      "execution_count": null,
      "outputs": [
        {
          "output_type": "display_data",
          "data": {
            "text/plain": [
              "<Figure size 2160x360 with 1 Axes>"
            ],
            "image/png": "[encoded data removed]"
          },
          "metadata": {
            "needs_background": "light"
          }
        }
      ]
    },
    {
      "cell_type": "markdown",
      "source": [
        "---\n",
        "## **Casos de diabetes en 2019**\n",
        "Existen en mi opinión tres variables interesantes, estas son: la diabete por rango de edad, por sexo y según si en si familia han habido casos anteriores de diabetes.\n",
        "Abajo se ven representados en gráficos de torta el porcentaje de mujeres y hombres con casos de diabetes en la familia. La diabetes por sexo. Y la suma de personas con diabetes por rango de edad en gráfico de barras."
      ],
      "metadata": {
        "id": "Bn3YF00aXLdV"
      }
    },
    {
      "cell_type": "code",
      "source": [
        "diabetes_cases_csv.head(5)"
      ],
      "metadata": {
        "id": "WeyjGVB_N8F0",
        "colab": {
          "base_uri": "https://localhost:8080/"
        },
        "outputId": "e5243724-7ccd-44d9-86c7-fffe6a93b3ed"
      },
      "execution_count": null,
      "outputs": [
        {
          "output_type": "execute_result",
          "data": {
            "text/plain": [
              "     Age Gender Family_Diabetes highBP      PhysicallyActive   BMI Smoking  \\\n",
              "0  50-59   Male              no    yes        one hr or more  39.0      no   \n",
              "1  50-59   Male              no    yes  less than half an hr  28.0      no   \n",
              "2  40-49   Male              no     no        one hr or more  24.0      no   \n",
              "3  50-59   Male              no     no        one hr or more  23.0      no   \n",
              "4  40-49   Male              no     no  less than half an hr  27.0      no   \n",
              "\n",
              "  Alcohol  Sleep  SoundSleep RegularMedicine      JunkFood     Stress BPLevel  \\\n",
              "0      no      8           6              no  occasionally  sometimes    high   \n",
              "1      no      8           6             yes    very often  sometimes  normal   \n",
              "2      no      6           6              no  occasionally  sometimes  normal   \n",
              "3      no      8           6              no  occasionally  sometimes  normal   \n",
              "4      no      8           8              no  occasionally  sometimes  normal   \n",
              "\n",
              "   Pregancies Pdiabetes UriationFreq  \n",
              "0         0.0         0     not much  \n",
              "1         0.0         0     not much  \n",
              "2         0.0         0     not much  \n",
              "3         0.0         0     not much  \n",
              "4         0.0         0     not much  "
            ],
            "text/html": [
              "\n",
              "  <div id=\"df-bdcd4f01-96fc-4b89-8071-e54a3c1505bd\">\n",
              "    <div class=\"colab-df-container\">\n",
              "      <div>\n",
              "<style scoped>\n",
              "    .dataframe tbody tr th:only-of-type {\n",
              "        vertical-align: middle;\n",
              "    }\n",
              "\n",
              "    .dataframe tbody tr th {\n",
              "        vertical-align: top;\n",
              "    }\n",
              "\n",
              "    .dataframe thead th {\n",
              "        text-align: right;\n",
              "    }\n",
              "</style>\n",
              "<table border=\"1\" class=\"dataframe\">\n",
              "  <thead>\n",
              "    <tr style=\"text-align: right;\">\n",
              "      <th></th>\n",
              "      <th>Age</th>\n",
              "      <th>Gender</th>\n",
              "      <th>Family_Diabetes</th>\n",
              "      <th>highBP</th>\n",
              "      <th>PhysicallyActive</th>\n",
              "      <th>BMI</th>\n",
              "      <th>Smoking</th>\n",
              "      <th>Alcohol</th>\n",
              "      <th>Sleep</th>\n",
              "      <th>SoundSleep</th>\n",
              "      <th>RegularMedicine</th>\n",
              "      <th>JunkFood</th>\n",
              "      <th>Stress</th>\n",
              "      <th>BPLevel</th>\n",
              "      <th>Pregancies</th>\n",
              "      <th>Pdiabetes</th>\n",
              "      <th>UriationFreq</th>\n",
              "    </tr>\n",
              "  </thead>\n",
              "  <tbody>\n",
              "    <tr>\n",
              "      <th>0</th>\n",
              "      <td>50-59</td>\n",
              "      <td>Male</td>\n",
              "      <td>no</td>\n",
              "      <td>yes</td>\n",
              "      <td>one hr or more</td>\n",
              "      <td>39.0</td>\n",
              "      <td>no</td>\n",
              "      <td>no</td>\n",
              "      <td>8</td>\n",
              "      <td>6</td>\n",
              "      <td>no</td>\n",
              "      <td>occasionally</td>\n",
              "      <td>sometimes</td>\n",
              "      <td>high</td>\n",
              "      <td>0.0</td>\n",
              "      <td>0</td>\n",
              "      <td>not much</td>\n",
              "    </tr>\n",
              "    <tr>\n",
              "      <th>1</th>\n",
              "      <td>50-59</td>\n",
              "      <td>Male</td>\n",
              "      <td>no</td>\n",
              "      <td>yes</td>\n",
              "      <td>less than half an hr</td>\n",
              "      <td>28.0</td>\n",
              "      <td>no</td>\n",
              "      <td>no</td>\n",
              "      <td>8</td>\n",
              "      <td>6</td>\n",
              "      <td>yes</td>\n",
              "      <td>very often</td>\n",
              "      <td>sometimes</td>\n",
              "      <td>normal</td>\n",
              "      <td>0.0</td>\n",
              "      <td>0</td>\n",
              "      <td>not much</td>\n",
              "    </tr>\n",
              "    <tr>\n",
              "      <th>2</th>\n",
              "      <td>40-49</td>\n",
              "      <td>Male</td>\n",
              "      <td>no</td>\n",
              "      <td>no</td>\n",
              "      <td>one hr or more</td>\n",
              "      <td>24.0</td>\n",
              "      <td>no</td>\n",
              "      <td>no</td>\n",
              "      <td>6</td>\n",
              "      <td>6</td>\n",
              "      <td>no</td>\n",
              "      <td>occasionally</td>\n",
              "      <td>sometimes</td>\n",
              "      <td>normal</td>\n",
              "      <td>0.0</td>\n",
              "      <td>0</td>\n",
              "      <td>not much</td>\n",
              "    </tr>\n",
              "    <tr>\n",
              "      <th>3</th>\n",
              "      <td>50-59</td>\n",
              "      <td>Male</td>\n",
              "      <td>no</td>\n",
              "      <td>no</td>\n",
              "      <td>one hr or more</td>\n",
              "      <td>23.0</td>\n",
              "      <td>no</td>\n",
              "      <td>no</td>\n",
              "      <td>8</td>\n",
              "      <td>6</td>\n",
              "      <td>no</td>\n",
              "      <td>occasionally</td>\n",
              "      <td>sometimes</td>\n",
              "      <td>normal</td>\n",
              "      <td>0.0</td>\n",
              "      <td>0</td>\n",
              "      <td>not much</td>\n",
              "    </tr>\n",
              "    <tr>\n",
              "      <th>4</th>\n",
              "      <td>40-49</td>\n",
              "      <td>Male</td>\n",
              "      <td>no</td>\n",
              "      <td>no</td>\n",
              "      <td>less than half an hr</td>\n",
              "      <td>27.0</td>\n",
              "      <td>no</td>\n",
              "      <td>no</td>\n",
              "      <td>8</td>\n",
              "      <td>8</td>\n",
              "      <td>no</td>\n",
              "      <td>occasionally</td>\n",
              "      <td>sometimes</td>\n",
              "      <td>normal</td>\n",
              "      <td>0.0</td>\n",
              "      <td>0</td>\n",
              "      <td>not much</td>\n",
              "    </tr>\n",
              "  </tbody>\n",
              "</table>\n",
              "</div>\n",
              "      <button class=\"colab-df-convert\" onclick=\"convertToInteractive('df-bdcd4f01-96fc-4b89-8071-e54a3c1505bd')\"\n",
              "              title=\"Convert this dataframe to an interactive table.\"\n",
              "              style=\"display:none;\">\n",
              "        \n",
              "  <svg xmlns=\"http://www.w3.org/2000/svg\" height=\"24px\"viewBox=\"0 0 24 24\"\n",
              "       width=\"24px\">\n",
              "    <path d=\"M0 0h24v24H0V0z\" fill=\"none\"/>\n",
              "    <path d=\"M18.56 5.44l.94 2.06.94-2.06 2.06-.94-2.06-.94-.94-2.06-.94 2.06-2.06.94zm-11 1L8.5 8.5l.94-2.06 2.06-.94-2.06-.94L8.5 2.5l-.94 2.06-2.06.94zm10 10l.94 2.06.94-2.06 2.06-.94-2.06-.94-.94-2.06-.94 2.06-2.06.94z\"/><path d=\"M17.41 7.96l-1.37-1.37c-.4-.4-.92-.59-1.43-.59-.52 0-1.04.2-1.43.59L10.3 9.45l-7.72 7.72c-.78.78-.78 2.05 0 2.83L4 21.41c.39.39.9.59 1.41.59.51 0 1.02-.2 1.41-.59l7.78-7.78 2.81-2.81c.8-.78.8-2.07 0-2.86zM5.41 20L4 18.59l7.72-7.72 1.47 1.35L5.41 20z\"/>\n",
              "  </svg>\n",
              "      </button>\n",
              "      \n",
              "  <style>\n",
              "    .colab-df-container {\n",
              "      display:flex;\n",
              "      flex-wrap:wrap;\n",
              "      gap: 12px;\n",
              "    }\n",
              "\n",
              "    .colab-df-convert {\n",
              "      background-color: #E8F0FE;\n",
              "      border: none;\n",
              "      border-radius: 50%;\n",
              "      cursor: pointer;\n",
              "      display: none;\n",
              "      fill: #1967D2;\n",
              "      height: 32px;\n",
              "      padding: 0 0 0 0;\n",
              "      width: 32px;\n",
              "    }\n",
              "\n",
              "    .colab-df-convert:hover {\n",
              "      background-color: #E2EBFA;\n",
              "      box-shadow: 0px 1px 2px rgba(60, 64, 67, 0.3), 0px 1px 3px 1px rgba(60, 64, 67, 0.15);\n",
              "      fill: #174EA6;\n",
              "    }\n",
              "\n",
              "    [theme=dark] .colab-df-convert {\n",
              "      background-color: #3B4455;\n",
              "      fill: #D2E3FC;\n",
              "    }\n",
              "\n",
              "    [theme=dark] .colab-df-convert:hover {\n",
              "      background-color: #434B5C;\n",
              "      box-shadow: 0px 1px 3px 1px rgba(0, 0, 0, 0.15);\n",
              "      filter: drop-shadow(0px 1px 2px rgba(0, 0, 0, 0.3));\n",
              "      fill: #FFFFFF;\n",
              "    }\n",
              "  </style>\n",
              "\n",
              "      <script>\n",
              "        const buttonEl =\n",
              "          document.querySelector('#df-bdcd4f01-96fc-4b89-8071-e54a3c1505bd button.colab-df-convert');\n",
              "        buttonEl.style.display =\n",
              "          google.colab.kernel.accessAllowed ? 'block' : 'none';\n",
              "\n",
              "        async function convertToInteractive(key) {\n",
              "          const element = document.querySelector('#df-bdcd4f01-96fc-4b89-8071-e54a3c1505bd');\n",
              "          const dataTable =\n",
              "            await google.colab.kernel.invokeFunction('convertToInteractive',\n",
              "                                                     [key], {});\n",
              "          if (!dataTable) return;\n",
              "\n",
              "          const docLinkHtml = 'Like what you see? Visit the ' +\n",
              "            '<a target=\"_blank\" href=https://colab.research.google.com/notebooks/data_table.ipynb>data table notebook</a>'\n",
              "            + ' to learn more about interactive tables.';\n",
              "          element.innerHTML = '';\n",
              "          dataTable['output_type'] = 'display_data';\n",
              "          await google.colab.output.renderOutput(dataTable, element);\n",
              "          const docLink = document.createElement('div');\n",
              "          docLink.innerHTML = docLinkHtml;\n",
              "          element.appendChild(docLink);\n",
              "        }\n",
              "      </script>\n",
              "    </div>\n",
              "  </div>\n",
              "  "
            ]
          },
          "metadata": {},
          "execution_count": 7
        }
      ]
    },
    {
      "cell_type": "code",
      "source": [
        "familiar_diabetes = diabetes_cases_csv[[\"Family_Diabetes\", \"Gender\"]]\n",
        "familiar_diabetes.dropna()\n",
        "no_percent = len(familiar_diabetes[familiar_diabetes == \"no\"]) * 100 / len(familiar_diabetes)\n",
        "yes_percent = len(familiar_diabetes[familiar_diabetes == \"yes\"]) * 100 / len(familiar_diabetes)\n",
        "pd.DataFrame([no_percent, yes_percent], index=['No', 'Yes']).plot.pie(figsize=(4, 4), subplots=True);"
      ],
      "metadata": {
        "id": "E2VDSeToXK2Z",
        "colab": {
          "base_uri": "https://localhost:8080/",
          "height": 54
        },
        "outputId": "26f2777c-384f-408c-85a7-999bcdfbcf22"
      },
      "execution_count": null,
      "outputs": [
        {
          "output_type": "display_data",
          "data": {
            "text/plain": [
              "<Figure size 288x288 with 1 Axes>"
            ],
            "image/png": "[encoded data removed]"
          },
          "metadata": {}
        }
      ]
    },
    {
      "cell_type": "code",
      "source": [
        "male_no_percent = len(familiar_diabetes[(familiar_diabetes[\"Family_Diabetes\"] == \"no\") & (familiar_diabetes[\"Gender\"] == \"Male\")]) * 100 / len(familiar_diabetes)\n",
        "male_yes_percent = len(familiar_diabetes[(familiar_diabetes[\"Family_Diabetes\"] == \"yes\") & (familiar_diabetes[\"Gender\"] == \"Male\")]) * 100 / len(familiar_diabetes)\n",
        "pd.DataFrame([male_no_percent, male_yes_percent], index=['Male No', 'Male Yes']).plot.pie(figsize=(4, 4), subplots=True);"
      ],
      "metadata": {
        "id": "CauHinwKSL9r",
        "colab": {
          "base_uri": "https://localhost:8080/",
          "height": 248
        },
        "outputId": "788f4b45-f893-44b3-a4c6-237477a92c1f"
      },
      "execution_count": null,
      "outputs": [
        {
          "output_type": "display_data",
          "data": {
            "text/plain": [
              "<Figure size 288x288 with 1 Axes>"
            ],
            "image/png": "[encoded data removed]"
          },
          "metadata": {}
        }
      ]
    },
    {
      "cell_type": "code",
      "source": [
        "female_no_percent = len(familiar_diabetes[(familiar_diabetes[\"Family_Diabetes\"] == \"no\") & (familiar_diabetes[\"Gender\"] == \"Female\")]) * 100 / len(familiar_diabetes)\n",
        "female_yes_percent = len(familiar_diabetes[(familiar_diabetes[\"Family_Diabetes\"] == \"yes\") & (familiar_diabetes[\"Gender\"] == \"Female\")]) * 100 / len(familiar_diabetes)\n",
        "pd.DataFrame([female_no_percent, female_yes_percent], index=['Female No', 'Female Yes']).plot.pie(figsize=(4, 4), subplots=True);"
      ],
      "metadata": {
        "id": "2f_0FVz2OOnE",
        "colab": {
          "base_uri": "https://localhost:8080/"
        },
        "outputId": "84c5475f-1d37-4d5b-b9c3-3b927b3fbe5f"
      },
      "execution_count": null,
      "outputs": [
        {
          "output_type": "display_data",
          "data": {
            "text/plain": [
              "<Figure size 288x288 with 1 Axes>"
            ],
            "image/png": "[encoded data removed]"
          },
          "metadata": {}
        }
      ]
    },
    {
      "cell_type": "code",
      "source": [
        "diabetes_by_sex = diabetes_cases_csv[\"Gender\"]\n",
        "diabetes_by_sex.dropna()\n",
        "Male_percent = len(familiar_diabetes[diabetes_by_sex == \"Male\"]) * 100 / len(diabetes_by_sex)\n",
        "Female_percent = len(familiar_diabetes[diabetes_by_sex == \"Female\"]) * 100 / len(diabetes_by_sex)\n",
        "\n",
        "pd.DataFrame([no_percent, yes_percent], index=['Male', 'Female']).plot.pie(figsize=(5, 5), subplots=True);"
      ],
      "metadata": {
        "id": "BXkgQgEkQz1S",
        "colab": {
          "base_uri": "https://localhost:8080/"
        },
        "outputId": "43bbf8fb-8086-4f9e-bd2b-621df7e77117"
      },
      "execution_count": null,
      "outputs": [
        {
          "output_type": "display_data",
          "data": {
            "text/plain": [
              "<Figure size 360x360 with 1 Axes>"
            ],
            "image/png": "[encoded data removed]"
          },
          "metadata": {}
        }
      ]
    },
    {
      "cell_type": "code",
      "source": [
        "hist = diabetes_cases_csv[[\"Gender\", \"Age\"]]\n",
        "sum_less_40 = len(hist[(hist[\"Gender\"] == \"Male\") & (hist[\"Age\"] == \"less than 40\")])\n",
        "sum_40_49 = len(hist[(hist[\"Gender\"] == \"Male\") & (hist[\"Age\"] == \"40-49\")])\n",
        "sum_50_59 = len(hist[(hist[\"Gender\"] == \"Male\") & (hist[\"Age\"] == \"50-59\")])\n",
        "sum_older_60 = len(hist[(hist[\"Gender\"] == \"Male\") & (hist[\"Age\"] == \"60 or older\")])\n",
        "\n",
        "plot_bar = pd.DataFrame([sum_less_40, sum_40_49, sum_50_59, sum_older_60], index = [\">40\", \"40-49\", \"50-59\", \"60<\"]).plot.bar();\n",
        "plot_bar.legend('Diabetes por edad (Hombres)');"
      ],
      "metadata": {
        "id": "z3QYsf8uTPLR",
        "colab": {
          "base_uri": "https://localhost:8080/",
          "height": 54
        },
        "outputId": "f3590ba8-2955-47b4-dc10-df9e83790882"
      },
      "execution_count": null,
      "outputs": [
        {
          "output_type": "display_data",
          "data": {
            "text/plain": [
              "<Figure size 432x288 with 1 Axes>"
            ],
            "image/png": "[encoded data removed]"
          },
          "metadata": {
            "needs_background": "light"
          }
        }
      ]
    }
  ]
}