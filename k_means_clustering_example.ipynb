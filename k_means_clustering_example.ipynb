{
  "nbformat": 4,
  "nbformat_minor": 0,
  "metadata": {
    "colab": {
      "provenance": [],
      "authorship_tag": "ABX9TyNthAxVirXSL/1zslaSASWe",
      "include_colab_link": true
    },
    "kernelspec": {
      "name": "python3",
      "display_name": "Python 3"
    },
    "language_info": {
      "name": "python"
    }
  },
  "cells": [
    {
      "cell_type": "markdown",
      "metadata": {
        "id": "view-in-github",
        "colab_type": "text"
      },
      "source": [
        "<a href=\"https://colab.research.google.com/github/giulicrenna/data_science/blob/main/k_means_clustering_example.ipynb\" target=\"_parent\"><img src=\"https://colab.research.google.com/assets/colab-badge.svg\" alt=\"Open In Colab\"/></a>"
      ]
    },
    {
      "cell_type": "code",
      "execution_count": 16,
      "metadata": {
        "id": "z7_v747iOJk5"
      },
      "outputs": [],
      "source": [
        "import numpy as np\n",
        "import pandas as pd\n",
        "\n",
        "import matplotlib.pyplot as plt\n",
        "\n",
        "import sklearn\n",
        "from sklearn.cluster import KMeans\n",
        "from mpl_toolkits.mplot3d import Axes3D\n",
        "from sklearn.preprocessing import scale\n",
        "\n",
        "import sklearn.metrics as sm\n",
        "from sklearn import datasets\n",
        "from sklearn.metrics import confusion_matrix, classification_report"
      ]
    },
    {
      "cell_type": "code",
      "source": [
        "from mpl_toolkits.mplot3d.axes3d import rcParams\n",
        "%matplotlib inline\n",
        "rcParams['figure.figsize'] = 6, 6"
      ],
      "metadata": {
        "id": "n-8Oc2vMPWXh"
      },
      "execution_count": 28,
      "outputs": []
    },
    {
      "cell_type": "code",
      "source": [
        "\"\"\"\n",
        "Loading the data\n",
        "scale -> for normalize the data at any axe\n",
        "\"\"\"\n",
        "iris_data = datasets.load_iris()\n",
        "X = scale(iris_data.data)\n",
        "\n",
        "y = pd.DataFrame(iris_data.target)\n",
        "variable_names = iris_data.feature_names\n",
        "X[0:10]"
      ],
      "metadata": {
        "colab": {
          "base_uri": "https://localhost:8080/"
        },
        "id": "gjVJ9nkGP4v7",
        "outputId": "45be8abd-bd01-4073-f2ae-e16a3db62f63"
      },
      "execution_count": 13,
      "outputs": [
        {
          "output_type": "execute_result",
          "data": {
            "text/plain": [
              "array([[-0.90068117,  1.01900435, -1.34022653, -1.3154443 ],\n",
              "       [-1.14301691, -0.13197948, -1.34022653, -1.3154443 ],\n",
              "       [-1.38535265,  0.32841405, -1.39706395, -1.3154443 ],\n",
              "       [-1.50652052,  0.09821729, -1.2833891 , -1.3154443 ],\n",
              "       [-1.02184904,  1.24920112, -1.34022653, -1.3154443 ],\n",
              "       [-0.53717756,  1.93979142, -1.16971425, -1.05217993],\n",
              "       [-1.50652052,  0.78880759, -1.34022653, -1.18381211],\n",
              "       [-1.02184904,  0.78880759, -1.2833891 , -1.3154443 ],\n",
              "       [-1.74885626, -0.36217625, -1.34022653, -1.3154443 ],\n",
              "       [-1.14301691,  0.09821729, -1.2833891 , -1.44707648]])"
            ]
          },
          "metadata": {},
          "execution_count": 13
        }
      ]
    },
    {
      "cell_type": "code",
      "source": [
        "\"\"\"\n",
        "Building and running the model\n",
        "\"\"\"\n",
        "clustering = KMeans(n_clusters=3, random_state=5)\n",
        "clustering.fit(X)"
      ],
      "metadata": {
        "colab": {
          "base_uri": "https://localhost:8080/"
        },
        "id": "_alSrsf-RBxC",
        "outputId": "30757c59-97a8-4d67-88ea-658bb91c4557"
      },
      "execution_count": 14,
      "outputs": [
        {
          "output_type": "execute_result",
          "data": {
            "text/plain": [
              "KMeans(n_clusters=3, random_state=5)"
            ]
          },
          "metadata": {},
          "execution_count": 14
        }
      ]
    },
    {
      "cell_type": "code",
      "source": [
        "\"\"\"\n",
        "Plotting the model\n",
        "\"\"\"\n",
        "iris_df = pd.DataFrame(iris_data.data)\n",
        "iris_df.columns = [\"Sepal_Lenght\", \"Sepal_Width\", \"Petal_Lenght\", \"Petal_Width\"]\n",
        "y.columns = [\"Targets\"]"
      ],
      "metadata": {
        "id": "3cvlYSaTSGWJ"
      },
      "execution_count": 15,
      "outputs": []
    },
    {
      "cell_type": "code",
      "source": [
        "color_theme = np.array([\"darkgray\", \"lightsalmon\", \"powderblue\"])\n",
        "\n",
        "#plt.subplot(1, 2, 1)\n",
        "plt.scatter(x=iris_df.Petal_Lenght, y = iris_df.Petal_Width, c = color_theme[iris_data.target], s=30)\n",
        "plt.title(\"Ground Truth Classification\")"
      ],
      "metadata": {
        "colab": {
          "base_uri": "https://localhost:8080/",
          "height": 407
        },
        "id": "c2tsLqA3Sq_m",
        "outputId": "047df2ca-8951-467e-c86b-4ec089196c04"
      },
      "execution_count": 29,
      "outputs": [
        {
          "output_type": "execute_result",
          "data": {
            "text/plain": [
              "Text(0.5, 1.0, 'Ground Truth Classification')"
            ]
          },
          "metadata": {},
          "execution_count": 29
        },
        {
          "output_type": "display_data",
          "data": {
            "text/plain": [
              "<Figure size 432x432 with 1 Axes>"
            ],
            "image/png": "[encoded data removed]"
          },
          "metadata": {
            "needs_background": "light"
          }
        }
      ]
    },
    {
      "cell_type": "code",
      "source": [
        "#plt.subplot(1, 2, 2)\n",
        "plt.scatter(x=iris_df.Petal_Lenght, y = iris_df.Petal_Width, c = color_theme[clustering.labels_], s=30)\n",
        "plt.title(\"K-Means classification\")"
      ],
      "metadata": {
        "colab": {
          "base_uri": "https://localhost:8080/",
          "height": 407
        },
        "id": "syat6ONGTUY8",
        "outputId": "f356378d-e08a-4e70-9f7d-ca1f98d4ec3c"
      },
      "execution_count": 30,
      "outputs": [
        {
          "output_type": "execute_result",
          "data": {
            "text/plain": [
              "Text(0.5, 1.0, 'K-Means classification')"
            ]
          },
          "metadata": {},
          "execution_count": 30
        },
        {
          "output_type": "display_data",
          "data": {
            "text/plain": [
              "<Figure size 432x432 with 1 Axes>"
            ],
            "image/png": "[encoded data removed]"
          },
          "metadata": {
            "needs_background": "light"
          }
        }
      ]
    },
    {
      "cell_type": "code",
      "source": [
        "\"\"\"\n",
        "Evalueate clustering result\n",
        "\"\"\"\n",
        "relabel = np.choose(clustering.labels_, [2, 0, 1]).astype(np.int64)\n",
        "print(classification_report(y, relabel))"
      ],
      "metadata": {
        "colab": {
          "base_uri": "https://localhost:8080/"
        },
        "id": "IHLu8hwzWVhM",
        "outputId": "404f74ae-0cdb-4b67-b9b0-0d0af02890d2"
      },
      "execution_count": 32,
      "outputs": [
        {
          "output_type": "stream",
          "name": "stdout",
          "text": [
            "              precision    recall  f1-score   support\n",
            "\n",
            "           0       1.00      1.00      1.00        50\n",
            "           1       0.74      0.78      0.76        50\n",
            "           2       0.77      0.72      0.74        50\n",
            "\n",
            "    accuracy                           0.83       150\n",
            "   macro avg       0.83      0.83      0.83       150\n",
            "weighted avg       0.83      0.83      0.83       150\n",
            "\n"
          ]
        }
      ]
    }
  ]
}